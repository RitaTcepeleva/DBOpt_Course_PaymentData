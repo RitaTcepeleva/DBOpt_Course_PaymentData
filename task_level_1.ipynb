{
 "cells": [
  {
   "cell_type": "markdown",
   "metadata": {},
   "source": [
    "## Задачи I уровня\n",
    "1. Реализовать индексы, повышающие производительность операций вставки и изменения платежей без модификации программных компонент"
   ]
  },
  {
   "cell_type": "code",
   "execution_count": 28,
   "metadata": {},
   "outputs": [],
   "source": [
    "import datetime\n",
    "import random\n",
    "import pyodbc\n",
    "from faker import Faker\n",
    "\n",
    "database = 'PaymentData'\n",
    "user = 'sa'\n",
    "password = 'reallyStrongPwd123'\n",
    "cnxn = pyodbc.connect('DSN='+database+';DATABASE='+database+';UID='+user+';PWD='+ password)\n",
    "cursor = cnxn.cursor()\n",
    "\n",
    "faker = Faker()"
   ]
  },
  {
   "cell_type": "code",
   "execution_count": 29,
   "metadata": {},
   "outputs": [],
   "source": [
    "def gener_date(start_time, end_time):\n",
    "    return datetime.datetime.fromtimestamp(\n",
    "            random.randint(int(start_time.timestamp()), int(end_time.timestamp()))\n",
    "        )"
   ]
  },
  {
   "cell_type": "code",
   "execution_count": 30,
   "metadata": {},
   "outputs": [],
   "source": [
    "#copy of Payment Insertion block from data_generation.ipynb\n",
    "\n",
    "def payment_insertion(num_of_lines):\n",
    "    oid_category = []\n",
    "    query = \"SELECT Oid FROM [dbo].[PaymentCategory]\"\n",
    "    participants = cursor.execute(query)\n",
    "    for participant in participants:\n",
    "        oid_category.append(participant[0])\n",
    "\n",
    "    oid_participant = []\n",
    "    query = \"SELECT Oid FROM [dbo].[PaymentParticipant]\"\n",
    "    participants = cursor.execute(query)\n",
    "    for participant in participants:\n",
    "        oid_participant.append(participant[0])\n",
    "\n",
    "    oid_project = []\n",
    "    query = \"SELECT Oid FROM [dbo].[Project]\"\n",
    "    participants = cursor.execute(query)\n",
    "    for participant in participants:\n",
    "        oid_project.append(participant[0])\n",
    "\n",
    "    for _ in range(num_of_lines):\n",
    "        amount = random.randint(1, 100000)\n",
    "        category = random.choice(oid_category)\n",
    "        check_number = random.randint(10000, 99999)\n",
    "        comment = faker.text(100)\n",
    "        date = gener_date(datetime.datetime(2010, 1, 1), datetime.datetime.now()).isoformat()\n",
    "        created_date = datetime.datetime.fromtimestamp(\n",
    "            int(datetime.datetime.now().timestamp())\n",
    "        ).isoformat()\n",
    "        is_authorized = random.randint(0, 1)\n",
    "        justificaton = faker.text(30)\n",
    "        number = random.randint(10000, 99999)\n",
    "        optimistic_lock_field = random.randint(1, 3)\n",
    "        payee, payer = random.sample(oid_participant, 2)\n",
    "        project = random.choice(oid_project)\n",
    "\n",
    "        query = f\"\"\"INSERT INTO [dbo].[Payment] ([Oid], [Amount], [Category], [Project], [Justification], [Comment], [Date], [Payer], [Payee],\n",
    "                    [OptimisticLockField], [GCRecord], [CreateDate], [CheckNumber], [IsAuthorized], [Number]) \n",
    "                    VALUES (NEWID(), {amount}, '{category}', '{project}', '{justificaton}', '{comment}', '{date}', '{payer}', '{payee}', \n",
    "                    {optimistic_lock_field}, Null, '{created_date}', '{check_number}', {is_authorized}, '{number}')\"\"\"\n",
    "        cursor.execute(query)\n",
    "    cursor.commit()"
   ]
  },
  {
   "cell_type": "markdown",
   "metadata": {},
   "source": [
    "На данном этапе считаю целесообразно внимательно проанализировать триггер [T_Payment_AI], который срабатывает при операциях INSERT/UPDATE записей с таблицей [dbo].[Payment].\n",
    "\n",
    "При срабатывании данного триггера вызываются следующие функции: [dbo].[F_CalculatePaymentParticipantBalance], [dbo].[F_CalculateBalanceByMaterial],\n",
    "[dbo].[F_CalculateBalanceByWork], [dbo].[F_CalculateProjectBalance].\n",
    "\n",
    "В данных функциях используются вызовы вида `SELECT <...> FROM <...> WHERE <...>`, где после `WHERE` используются поля различных таблиц. Надо искать те поля, на которых нет индексов.\n",
    "\n",
    "Функция [dbo].[F_CalculateProjectBalance]: в данной функции полями, которые я ищу, считаются `Payment.GCRecord` (на которое существует индекс) и `PaymentCategory.Name` (на котором индекса нет, необходимо создать).\n",
    "\n",
    "Функция [dbo].[F_CalculateBalanceByWork]: в данной функции полями, которые я ищу, считаются `Payment.GCRecord` (на которое существует индекс), `Payment.Payer` (на которое существует индекс), `Project.Client` (на которое существует индекс), `AccountType.Name` (на котором индекса нет, необходимо создать), `PaymentCategory.Name` (на котором индекса еще нет, но уже выбрано).\n",
    "\n",
    "Функция [dbo].[F_CalculateBalanceByMaterial]: в данной функции полями, которые я ищу, считаются `Payment.GCRecord` (на которое существует индекс), `Payment.Payer` (на которое существует индекс), `Project.Client` (на которое существует индекс), `Supplier.ProfitByMaterialAsPayer` (на котором индекса нет, необходимо создать), `AccountType.Name` (на котором индекса еще нет, но уже выбрано), `Supplier.ProfitByMaterialAsPayee` (на котором индекса нет, необходимо создать), `PaymentCategory.ProfitByMaterial` (на котором индекса нет, необходимо создать), `PaymentCategory.Name` (на котором индекса еще нет, но уже выбрано), `PaymentCategory.CostByMaterial` (на котором индекса нет, необходимо создать).\n",
    "\n",
    "Функция [dbo].[F_CalculatePaymentParticipantBalance]: в данной функции полями, которые я ищу, считаются `Payment.GCRecord` (на которое существует индекс), `PaymentCategory.NotInPaymentParticipantProfit` (на котором индекса нет, необходимо создать), `AccountType.Name` (на котором индекса еще нет, но уже выбрано), `PaymentCategory.Name` (на котором индекса еще нет, но уже выбрано).\n",
    "\n",
    "В итоге надо создать индексы на следующие поля: `PaymentCategory.Name`,  `AccountType.Name`, `Supplier.ProfitByMaterialAsPayer`, `Supplier.ProfitByMaterialAsPayee`, `PaymentCategory.ProfitByMaterial`, `PaymentCategory.CostByMaterial`, `PaymentCategory.NotInPaymentParticipantProfit`.\n",
    "\n",
    "Измерим сначала время, затрачиваемое на проведение операций INSERT/UPDATE без добавления индексов:"
   ]
  },
  {
   "cell_type": "code",
   "execution_count": 32,
   "metadata": {},
   "outputs": [],
   "source": [
    "#need a func for update\n",
    "\n",
    "def payment_update(num_of_lines):\n",
    "    oid_project = []\n",
    "    query = f\"\"\"SELECT TOP {num_of_lines} Oid FROM [dbo].[Project]\"\"\"\n",
    "    participants = cursor.execute(query)\n",
    "    for participant in participants:\n",
    "        oid_project.append(participant[0])\n",
    "    \n",
    "    oid_category = []\n",
    "    query = \"SELECT Oid FROM [dbo].[PaymentCategory]\"\n",
    "    participants = cursor.execute(query)\n",
    "    for participant in participants:\n",
    "        oid_category.append(participant[0])\n",
    "\n",
    "    oid_participant = []\n",
    "    query = \"SELECT Oid FROM [dbo].[PaymentParticipant]\"\n",
    "    participants = cursor.execute(query)\n",
    "    for participant in participants:\n",
    "        oid_participant.append(participant[0])\n",
    "\n",
    "    for project in oid_project:\n",
    "        amount = random.randint(1, 100000)\n",
    "        category = random.choice(oid_category)\n",
    "        check_number = random.randint(10000, 99999)\n",
    "        comment = faker.text(100)\n",
    "        justificaton = faker.text(30)\n",
    "        number = random.randint(10000, 99999)\n",
    "        payee, payer = random.sample(oid_participant, 2)\n",
    "\n",
    "        query = f\"\"\"UPDATE [dbo].[Payment] SET [Amount] = {amount}, [Category] = '{category}', [Justification] = '{justificaton}',\n",
    "                [Comment] = '{comment}', [Payer] = '{payer}', [Payee] = '{payee}', [CheckNumber] = {check_number}, [Number] = {number} WHERE [Project] = '{project}'\"\"\"\n",
    "        cursor.execute(query)\n",
    "    cursor.commit()"
   ]
  },
  {
   "cell_type": "code",
   "execution_count": 33,
   "metadata": {},
   "outputs": [
    {
     "name": "stdout",
     "output_type": "stream",
     "text": [
      "UPDATE 100 строк (без добавления индексов):  1.175467\n"
     ]
    }
   ],
   "source": [
    "beginner_time = datetime.datetime.now()\n",
    "payment_update(100)\n",
    "stop_time = datetime.datetime.now()\n",
    "\n",
    "print('UPDATE 100 строк (без добавления индексов): ', (stop_time - beginner_time).total_seconds())\n"
   ]
  },
  {
   "cell_type": "code",
   "execution_count": 34,
   "metadata": {},
   "outputs": [],
   "source": [
    "query = \"DELETE FROM [dbo].[Payment]\"\n",
    "cursor.execute(query)\n",
    "cursor.commit()"
   ]
  },
  {
   "cell_type": "code",
   "execution_count": 35,
   "metadata": {},
   "outputs": [
    {
     "name": "stdout",
     "output_type": "stream",
     "text": [
      "INSERT 1000 строк (без добавления индексов):  6.171424\n"
     ]
    }
   ],
   "source": [
    "beginner_time = datetime.datetime.now()\n",
    "payment_insertion(1000)\n",
    "stop_time = datetime.datetime.now()\n",
    "\n",
    "print('INSERT 1000 строк (без добавления индексов): ', (stop_time - beginner_time).total_seconds())"
   ]
  },
  {
   "cell_type": "code",
   "execution_count": 36,
   "metadata": {},
   "outputs": [],
   "source": [
    "# add indices\n",
    "indecies = [\n",
    "    \"CREATE NONCLUSTERED INDEX iName_PaymentCategory ON [dbo].[PaymentCategory] (Name)\",\n",
    "    \"CREATE NONCLUSTERED INDEX iName_AccountType ON [dbo].[AccountType] (Name)\",\n",
    "    \"CREATE NONCLUSTERED INDEX iProfitByMaterialAsPayer_Supplier ON [dbo].[Supplier] (ProfitByMaterialAsPayer)\",\n",
    "    \"CREATE NONCLUSTERED INDEX iProfitByMaterialAsPayee_Supplier ON [dbo].[Supplier] (ProfitByMaterialAsPayee)\",\n",
    "    \"CREATE NONCLUSTERED INDEX iProfitByMaterial_PaymentCategory ON [dbo].[PaymentCategory] (ProfitByMaterial)\",\n",
    "    \"CREATE NONCLUSTERED INDEX iCostByMaterial_PaymentCategory ON [dbo].[PaymentCategory] (CostByMaterial)\",\n",
    "    \"CREATE NONCLUSTERED INDEX iNotInPaymentParticipantProfit_PaymentCategory ON [dbo].[PaymentCategory] (NotInPaymentParticipantProfit)\"\n",
    "]\n",
    "\n",
    "for quiery in indecies:\n",
    "    cursor.execute(query)\n",
    "    cursor.commit()"
   ]
  },
  {
   "cell_type": "code",
   "execution_count": 37,
   "metadata": {},
   "outputs": [
    {
     "name": "stdout",
     "output_type": "stream",
     "text": [
      "UPDATE 100 строк (с добавлением индексов):  0.763045\n"
     ]
    }
   ],
   "source": [
    "beginner_time = datetime.datetime.now()\n",
    "payment_update(100)\n",
    "stop_time = datetime.datetime.now()\n",
    "\n",
    "print('UPDATE 100 строк (с добавлением индексов): ', (stop_time - beginner_time).total_seconds())"
   ]
  },
  {
   "cell_type": "code",
   "execution_count": 38,
   "metadata": {},
   "outputs": [],
   "source": [
    "query = \"DELETE FROM [dbo].[Payment]\"\n",
    "cursor.execute(query)\n",
    "cursor.commit()"
   ]
  },
  {
   "cell_type": "code",
   "execution_count": 39,
   "metadata": {},
   "outputs": [
    {
     "name": "stdout",
     "output_type": "stream",
     "text": [
      "INSERT 1000 строк (с добавлением индексов):  6.176895\n"
     ]
    }
   ],
   "source": [
    "beginner_time = datetime.datetime.now()\n",
    "payment_insertion(1000)\n",
    "stop_time = datetime.datetime.now()\n",
    "\n",
    "print('INSERT 1000 строк (с добавлением индексов): ', (stop_time - beginner_time).total_seconds())"
   ]
  },
  {
   "cell_type": "code",
   "execution_count": 47,
   "metadata": {},
   "outputs": [
    {
     "name": "stdout",
     "output_type": "stream",
     "text": [
      "INSERT 100 строк (без добавления индексов):  1.143762\n"
     ]
    }
   ],
   "source": [
    "#need to try smaller batch for INSERT\n",
    "indecies = [\n",
    "    \"DROP INDEX iName_PaymentCategory ON [dbo].[PaymentCategory] (Name)\",\n",
    "    \"DROP INDEX iName_AccountType ON [dbo].[AccountType] (Name)\",\n",
    "    \"DROP INDEX iProfitByMaterialAsPayer_Supplier ON [dbo].[Supplier] (ProfitByMaterialAsPayer)\",\n",
    "    \"DROP INDEX iProfitByMaterialAsPayee_Supplier ON [dbo].[Supplier] (ProfitByMaterialAsPayee)\",\n",
    "    \"DROP INDEX iProfitByMaterial_PaymentCategory ON [dbo].[PaymentCategory] (ProfitByMaterial)\",\n",
    "    \"DROP INDEX iCostByMaterial_PaymentCategory ON [dbo].[PaymentCategory] (CostByMaterial)\",\n",
    "    \"DROP INDEX iNotInPaymentParticipantProfit_PaymentCategory ON [dbo].[PaymentCategory] (NotInPaymentParticipantProfit)\"\n",
    "]\n",
    "\n",
    "for quiery in indecies:\n",
    "    cursor.execute(query)\n",
    "    cursor.commit()\n",
    "\n",
    "query = \"DELETE FROM [dbo].[Payment]\"\n",
    "cursor.execute(query)\n",
    "cursor.commit()\n",
    "\n",
    "beginner_time = datetime.datetime.now()\n",
    "payment_insertion(100)\n",
    "stop_time = datetime.datetime.now()\n",
    "\n",
    "print('INSERT 100 строк (без добавления индексов): ', (stop_time - beginner_time).total_seconds())"
   ]
  },
  {
   "cell_type": "code",
   "execution_count": 48,
   "metadata": {},
   "outputs": [
    {
     "name": "stdout",
     "output_type": "stream",
     "text": [
      "INSERT 100 строк (с добавлением индексов):  0.663321\n"
     ]
    }
   ],
   "source": [
    "indecies = [\n",
    "    \"CREATE NONCLUSTERED INDEX iName_PaymentCategory ON [dbo].[PaymentCategory] (Name)\",\n",
    "    \"CREATE NONCLUSTERED INDEX iName_AccountType ON [dbo].[AccountType] (Name)\",\n",
    "    \"CREATE NONCLUSTERED INDEX iProfitByMaterialAsPayer_Supplier ON [dbo].[Supplier] (ProfitByMaterialAsPayer)\",\n",
    "    \"CREATE NONCLUSTERED INDEX iProfitByMaterialAsPayee_Supplier ON [dbo].[Supplier] (ProfitByMaterialAsPayee)\",\n",
    "    \"CREATE NONCLUSTERED INDEX iProfitByMaterial_PaymentCategory ON [dbo].[PaymentCategory] (ProfitByMaterial)\",\n",
    "    \"CREATE NONCLUSTERED INDEX iCostByMaterial_PaymentCategory ON [dbo].[PaymentCategory] (CostByMaterial)\",\n",
    "    \"CREATE NONCLUSTERED INDEX iNotInPaymentParticipantProfit_PaymentCategory ON [dbo].[PaymentCategory] (NotInPaymentParticipantProfit)\"\n",
    "]\n",
    "\n",
    "for quiery in indecies:\n",
    "    cursor.execute(query)\n",
    "    cursor.commit()\n",
    "\n",
    "query = \"DELETE FROM [dbo].[Payment]\"\n",
    "cursor.execute(query)\n",
    "cursor.commit()\n",
    "\n",
    "beginner_time = datetime.datetime.now()\n",
    "payment_insertion(100)\n",
    "stop_time = datetime.datetime.now()\n",
    "\n",
    "print('INSERT 100 строк (с добавлением индексов): ', (stop_time - beginner_time).total_seconds())"
   ]
  },
  {
   "cell_type": "markdown",
   "metadata": {},
   "source": [
    "По итогу для операции UPDATE над 100 строками затраченное время сократилось на 35.0858%. Для операции INSERT сначала было выбрано количество строк 1000 (сколько изначально добавлялось на этапе генерации данных). Как можно наблюдать, для 1000 строк время выполнения операции INSERT с добавлением индексов только увеличилось (на 0.088651%). Тогда я попробовала уменьшить кол-во строк до 100 (как в UPDATE), и время значительно сократилось с добавлением индексов (на 42.0053%). Из чего можно сделать вывод, что добавленные индексы хорошо работают при небоьшом кол-ве строк. При росте кол-ва строк данные индексы не показывают результат."
   ]
  }
 ],
 "metadata": {
  "kernelspec": {
   "display_name": "Python 3.9.1 64-bit",
   "language": "python",
   "name": "python3"
  },
  "language_info": {
   "codemirror_mode": {
    "name": "ipython",
    "version": 3
   },
   "file_extension": ".py",
   "mimetype": "text/x-python",
   "name": "python",
   "nbconvert_exporter": "python",
   "pygments_lexer": "ipython3",
   "version": "3.9.1"
  },
  "orig_nbformat": 4,
  "vscode": {
   "interpreter": {
    "hash": "aee8b7b246df8f9039afb4144a1f6fd8d2ca17a180786b69acc140d282b71a49"
   }
  }
 },
 "nbformat": 4,
 "nbformat_minor": 2
}
