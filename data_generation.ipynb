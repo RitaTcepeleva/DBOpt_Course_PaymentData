{
 "cells": [
  {
   "cell_type": "markdown",
   "metadata": {},
   "source": [
    "Раздел: Начальные действия.\n",
    "Пункт 4: Разработать и применить генератор тестовых данных."
   ]
  },
  {
   "cell_type": "code",
   "execution_count": 34,
   "metadata": {},
   "outputs": [],
   "source": [
    "import datetime\n",
    "import random\n",
    "import pyodbc\n",
    "from faker import Faker"
   ]
  },
  {
   "cell_type": "code",
   "execution_count": 35,
   "metadata": {},
   "outputs": [],
   "source": [
    "database = 'PaymentData'\n",
    "user = 'sa'\n",
    "password = 'reallyStrongPwd123'\n",
    "cnxn = pyodbc.connect('DSN='+database+';DATABASE='+database+';UID='+user+';PWD='+ password)\n",
    "cursor = cnxn.cursor()\n",
    "\n",
    "faker = Faker()\n",
    "\n",
    "num_of_lines = 1"
   ]
  },
  {
   "cell_type": "markdown",
   "metadata": {},
   "source": [
    "Заполняем PaymentParticipant:"
   ]
  },
  {
   "cell_type": "code",
   "execution_count": 36,
   "metadata": {},
   "outputs": [],
   "source": [
    "def gener_date(start_time, end_time):\n",
    "    return datetime.datetime.fromtimestamp(\n",
    "            random.randint(int(start_time.timestamp()), int(end_time.timestamp()))\n",
    "        )"
   ]
  },
  {
   "cell_type": "code",
   "execution_count": 37,
   "metadata": {},
   "outputs": [],
   "source": [
    "for _ in range(num_of_lines):\n",
    "    balance = 0\n",
    "    balance2 = 0\n",
    "    balance3 = 0\n",
    "    name = faker.name()\n",
    "    optimistic_lock_field = random.randint(1, 3)\n",
    "    object_type = random.randint(0, 4)\n",
    "    bank_details = faker.bban()\n",
    "    active_from = gener_date(datetime.datetime(2010, 1, 1), datetime.datetime.now())\n",
    "    inactive_from = gener_date(active_from, datetime.datetime.now())\n",
    "    active_from = active_from.isoformat()\n",
    "    inactive_from = inactive_from.isoformat()\n",
    "\n",
    "    query = f\"\"\"INSERT INTO [dbo].[PaymentParticipant] ([Oid], [Balance], [Name], [OptimisticLockField], [GCRecord], \n",
    "                [ObjectType], [ActiveFrom], [InactiveFrom], [BankDetails], [Balance2], [Balance3]) \n",
    "                VALUES (NEWID(), {balance}, '{name}', {optimistic_lock_field}, Null, {object_type}, '{active_from}',\n",
    "                '{inactive_from}', '{bank_details}', {balance2}, {balance3})\"\"\"\n",
    "\n",
    "    cursor.execute(query)\n",
    "    cursor.commit()"
   ]
  },
  {
   "cell_type": "code",
   "execution_count": 40,
   "metadata": {},
   "outputs": [
    {
     "name": "stdout",
     "output_type": "stream",
     "text": [
      "('49931082-2B9F-4B83-8999-552D11310006', 0, 'David Michael', 2, None, 2, datetime.datetime(2017, 4, 20, 21, 57, 27), datetime.datetime(2018, 2, 14, 12, 1, 28), 'GMQC15935104195503', 0, 0)\n"
     ]
    }
   ],
   "source": [
    "#example\n",
    "query = \"SELECT * FROM [dbo].[PaymentParticipant]\"\n",
    "cursor.execute(query)\n",
    "for row in cursor.fetchall():\n",
    "    print(row)"
   ]
  },
  {
   "cell_type": "code",
   "execution_count": 41,
   "metadata": {},
   "outputs": [],
   "source": [
    "query = \"DELETE FROM [dbo].[PaymentParticipant]\"\n",
    "cursor.execute(query)\n",
    "cursor.commit()"
   ]
  },
  {
   "cell_type": "code",
   "execution_count": 42,
   "metadata": {},
   "outputs": [],
   "source": [
    "num_of_lines = 1000\n",
    "for _ in range(num_of_lines):\n",
    "    balance = 0\n",
    "    balance2 = 0\n",
    "    balance3 = 0\n",
    "    name = faker.name()\n",
    "    optimistic_lock_field = random.randint(1, 3)\n",
    "    object_type = random.randint(0, 4)\n",
    "    bank_details = faker.bban()\n",
    "    active_from = gener_date(datetime.datetime(2010, 1, 1), datetime.datetime.now())\n",
    "    inactive_from = gener_date(active_from, datetime.datetime.now())\n",
    "    active_from = active_from.isoformat()\n",
    "    inactive_from = inactive_from.isoformat()\n",
    "\n",
    "    query = f\"\"\"INSERT INTO [dbo].[PaymentParticipant] ([Oid], [Balance], [Name], [OptimisticLockField], [GCRecord], \n",
    "                [ObjectType], [ActiveFrom], [InactiveFrom], [BankDetails], [Balance2], [Balance3]) \n",
    "                VALUES (NEWID(), {balance}, '{name}', {optimistic_lock_field}, Null, {object_type}, '{active_from}',\n",
    "                '{inactive_from}', '{bank_details}', {balance2}, {balance3})\"\"\"\n",
    "\n",
    "    cursor.execute(query)\n",
    "    cursor.commit()"
   ]
  },
  {
   "cell_type": "markdown",
   "metadata": {},
   "source": [
    "Заполняем Supplier:\n",
    "(PS: пусть object_type supplier'a = 0, object_type employer'a = 1, object_type client'a = 2, object_type cashbox'a = 3, object_type bank'a = 4)"
   ]
  },
  {
   "cell_type": "code",
   "execution_count": 43,
   "metadata": {},
   "outputs": [],
   "source": [
    "supplier_obj_type = 0\n",
    "query = f\"SELECT Oid, Name FROM [dbo].[PaymentParticipant] WHERE ObjectType = {supplier_obj_type}\"\n",
    "participants = cursor.execute(query)\n",
    "for participant in participants.fetchall():\n",
    "    oid, contact = participant\n",
    "    query = f\"\"\"INSERT INTO [dbo].[Supplier] ([Oid], [Contact], [ProfitByMaterialAsPayer], [ProfitByMaterialAsPayee], [CostByMaterialAsPayer])\n",
    "                VALUES ('{oid}', '{contact}', {random.randint(0, 1)}, {random.randint(0, 1)}, {random.randint(0, 1)})\"\"\"\n",
    "    cursor.execute(query)\n",
    "cursor.commit()"
   ]
  },
  {
   "cell_type": "code",
   "execution_count": 47,
   "metadata": {},
   "outputs": [
    {
     "name": "stdout",
     "output_type": "stream",
     "text": [
      "('08674F50-62EC-411B-A2B0-04870B85C712', 'Christine Fowler', True, True, False)\n"
     ]
    }
   ],
   "source": [
    "#example\n",
    "query = \"SELECT TOP (1) * FROM [dbo].[Supplier]\"\n",
    "cursor.execute(query)\n",
    "for row in cursor.fetchall():\n",
    "    print(row)"
   ]
  },
  {
   "cell_type": "markdown",
   "metadata": {},
   "source": [
    "Заполняем Employee:"
   ]
  },
  {
   "cell_type": "code",
   "execution_count": 48,
   "metadata": {},
   "outputs": [],
   "source": [
    "employee_obj_type = 1\n",
    "query = f\"SELECT Oid, Name FROM [dbo].[PaymentParticipant] WHERE ObjectType = {employee_obj_type}\"\n",
    "participants = cursor.execute(query)\n",
    "for participant in participants.fetchall():\n",
    "    oid, name = participant\n",
    "    first_name, second_name = name.split(maxsplit=1)\n",
    "    busy_until = gener_date(datetime.datetime(2010, 1, 1), datetime.datetime.now()).isoformat()\n",
    "    stuff = random.randint(0, 100000)\n",
    "    hour_price = random.randint(100, 2000)\n",
    "    plan_fix_id = random.randint(1, 10000)\n",
    "    plan_fix_money_request_task = faker.text(100)\n",
    "\n",
    "    query = f\"\"\"INSERT INTO [dbo].[Employee] ([Oid], [BusyUntil], [SecondName], [Stuff], [HourPrice], [Patronymic], \n",
    "                [PlanfixId], [Head], [PlanfixMoneyRequestTask])\n",
    "                VALUES ('{oid}', '{busy_until}', '{second_name}', {stuff}, {hour_price}, '{first_name}',\n",
    "                        {plan_fix_id}, Null, '{plan_fix_money_request_task}')\"\"\"\n",
    "    cursor.execute(query)\n",
    "cursor.commit()"
   ]
  },
  {
   "cell_type": "code",
   "execution_count": 49,
   "metadata": {},
   "outputs": [
    {
     "name": "stdout",
     "output_type": "stream",
     "text": [
      "('19FD7311-1D40-4720-B4C4-016DF499CE3F', datetime.datetime(2011, 8, 21, 15, 19, 55), 'Best', 58893, 1386, 'Latoya', 9478, None, 'Record education war energy near others Democrat power.')\n"
     ]
    }
   ],
   "source": [
    "#example\n",
    "query = \"SELECT TOP (1) * FROM [dbo].[Employee]\"\n",
    "cursor.execute(query)\n",
    "for row in cursor.fetchall():\n",
    "    print(row)"
   ]
  },
  {
   "cell_type": "markdown",
   "metadata": {},
   "source": [
    "Заполняем Client:"
   ]
  },
  {
   "cell_type": "code",
   "execution_count": 50,
   "metadata": {},
   "outputs": [],
   "source": [
    "client_obj_type = 2\n",
    "query = f\"SELECT Oid, Name FROM [dbo].[PaymentParticipant] WHERE ObjectType = {client_obj_type}\"\n",
    "participants = cursor.execute(query)\n",
    "for participant in participants.fetchall():\n",
    "    oid, name = participant\n",
    "    first_name, second_name = name.split(maxsplit=1)\n",
    "    phone_number = faker.phone_number()\n",
    "    query = f\"\"\"INSERT INTO [dbo].[Client] ([Oid], [FirstName], [SecondName], [Phone])\n",
    "                VALUES ('{oid}', '{first_name}', '{second_name}', '{phone_number}')\"\"\"\n",
    "    cursor.execute(query)\n",
    "cursor.commit()"
   ]
  },
  {
   "cell_type": "code",
   "execution_count": 51,
   "metadata": {},
   "outputs": [
    {
     "name": "stdout",
     "output_type": "stream",
     "text": [
      "('70FBB4DF-FC02-4544-8C35-00AF24E989B7', 'Laura', 'Schneider', '(601)736-6274x022')\n"
     ]
    }
   ],
   "source": [
    "#example\n",
    "query = \"SELECT TOP (1) * FROM [dbo].[Client]\"\n",
    "cursor.execute(query)\n",
    "for row in cursor.fetchall():\n",
    "    print(row)"
   ]
  },
  {
   "cell_type": "markdown",
   "metadata": {},
   "source": [
    "Заполняем Project:"
   ]
  },
  {
   "cell_type": "code",
   "execution_count": 55,
   "metadata": {},
   "outputs": [],
   "source": [
    "oid_employee = []\n",
    "query = \"SELECT Oid FROM [dbo].[Employee]\"\n",
    "participants = cursor.execute(query)\n",
    "for participant in participants:\n",
    "    oid_employee.append(participant[0])\n",
    "\n",
    "oid_client = []\n",
    "query = \"SELECT Oid FROM [dbo].[Client]\"\n",
    "participants = cursor.execute(query)\n",
    "for participant in participants:\n",
    "    oid_client.append(participant[0])\n",
    "\n",
    "for _ in range(num_of_lines):\n",
    "    address = faker.address()\n",
    "    area = random.randint(1, 1000000)\n",
    "    balance = 0\n",
    "    balance_by_material = 0\n",
    "    balance_by_work = 0\n",
    "    client = random.choice(oid_client)\n",
    "    start_date = gener_date(datetime.datetime(2010, 1, 1), datetime.datetime.now())\n",
    "    finish_date = gener_date(start_date + datetime.timedelta(180),start_date + datetime.timedelta(3650),)\n",
    "    manager, foreman = random.sample(oid_employee, 2)\n",
    "    name = faker.bs()\n",
    "    optimistic_lock_field = random.randint(1, 3)\n",
    "    plan_fix_change_request_task = faker.text(100)\n",
    "    plan_fix_work_task = faker.text(100)\n",
    "    remainder_the_advance = 0\n",
    "    status = random.randint(0, 4)\n",
    "    use_analytics = random.randint(0, 1)\n",
    "    work_price_rate = random.uniform(100, 100000000)\n",
    "    workers_price_rate = random.uniform(100, 500000)\n",
    "\n",
    "    query = f\"\"\"INSERT INTO [dbo].[Project] ([Oid], [Name], [Address], [Client], [Manager], [Foreman], [OptimisticLockField], [GCRecord], \n",
    "                [Balance], [BalanceByMaterial], [BalanceByWork], [PlaningStartDate], [Status], [FinishDate], [Area], [WorkPriceRate],\n",
    "                [WorkersPriceRate], [RemainderTheAdvance], [PlanfixWorkTask], [PlanfixChangeRequestTask], [UseAnalytics]) \n",
    "                VALUES (NEWID(), '{name}', '{address}', '{client}', '{manager}', '{foreman}', {optimistic_lock_field}, \n",
    "                        Null, {balance}, {balance_by_material}, {balance_by_work}, '{start_date}', {status}, '{finish_date}', \n",
    "                        {area}, {work_price_rate}, {workers_price_rate}, {remainder_the_advance}, '{plan_fix_work_task}', \n",
    "                        '{plan_fix_change_request_task}', {use_analytics})\"\"\"\n",
    "    cursor.execute(query)\n",
    "cursor.commit()\n",
    "\n"
   ]
  },
  {
   "cell_type": "code",
   "execution_count": 56,
   "metadata": {},
   "outputs": [
    {
     "name": "stdout",
     "output_type": "stream",
     "text": [
      "('23B9ED2E-FBBB-4904-B9C6-00063B8D45B2', 're-contextualize world-class mindshare', '386 Victor Burg Apt. 059\\nNorth Branditown, NV 15692', 'C8064AF2-9EFE-4914-997A-2BAAE00DE4B4', '71F76812-2E02-4CE4-A6DE-3DD5F6F5C5C2', 'E6B2DC1D-1CED-4B4E-84AB-76EF7D9E6AB1', 3, None, 0, 0, 0, datetime.datetime(2015, 4, 16, 21, 27, 8), 0, datetime.datetime(2017, 1, 10, 0, 45, 46), 512564, 13061389.633202966, 360646.26448074606, 0, 'Can expect truth together summer heart.', 'Tough yard until power particular message. Live hit arm claim hospital her major.', False)\n"
     ]
    }
   ],
   "source": [
    "#example\n",
    "query = \"SELECT TOP (1) * FROM [dbo].[Project]\"\n",
    "cursor.execute(query)\n",
    "for row in cursor.fetchall():\n",
    "    print(row)"
   ]
  },
  {
   "cell_type": "markdown",
   "metadata": {},
   "source": [
    "Заполняем Cashbox:"
   ]
  },
  {
   "cell_type": "code",
   "execution_count": 57,
   "metadata": {},
   "outputs": [],
   "source": [
    "cashbox_obj_type = 3\n",
    "oid_acc_type = []\n",
    "query = \"SELECT Oid FROM [dbo].[AccountType]\"\n",
    "participants = cursor.execute(query)\n",
    "for participant in participants:\n",
    "    oid_acc_type.append(participant[0])\n",
    "\n",
    "query = f\"SELECT Oid FROM [dbo].[PaymentParticipant] WHERE ObjectType = {cashbox_obj_type}\"\n",
    "participants = cursor.execute(query)\n",
    "for participant in participants.fetchall():\n",
    "    account_type = random.choice(oid_acc_type)\n",
    "    query = f\"\"\"INSERT INTO [dbo].[Cashbox] ([Oid], [AccountType]) VALUES ('{participant[0]}', '{account_type}')\"\"\"\n",
    "    cursor.execute(query)\n",
    "cursor.commit()"
   ]
  },
  {
   "cell_type": "code",
   "execution_count": 58,
   "metadata": {},
   "outputs": [
    {
     "name": "stdout",
     "output_type": "stream",
     "text": [
      "('B9681C10-2D44-4D17-8B13-01E6450616B5', 'C14044C4-0D50-4BCE-AF32-0639F7738026')\n"
     ]
    }
   ],
   "source": [
    "#example\n",
    "query = \"SELECT TOP (1) * FROM [dbo].[Cashbox]\"\n",
    "cursor.execute(query)\n",
    "for row in cursor.fetchall():\n",
    "    print(row)"
   ]
  },
  {
   "cell_type": "markdown",
   "metadata": {},
   "source": [
    "Заполняем Bank:"
   ]
  },
  {
   "cell_type": "code",
   "execution_count": 59,
   "metadata": {},
   "outputs": [],
   "source": [
    "bank_obj_type = 4\n",
    "oid_acc_type = []\n",
    "query = \"SELECT Oid FROM [dbo].[AccountType]\"\n",
    "participants = cursor.execute(query)\n",
    "for participant in participants:\n",
    "    oid_acc_type.append(participant[0])\n",
    "\n",
    "query = f\"SELECT Oid FROM [dbo].[PaymentParticipant] WHERE ObjectType = {bank_obj_type}\"\n",
    "participants = cursor.execute(query)\n",
    "for participant in participants.fetchall():\n",
    "    account_type = random.choice(oid_acc_type)\n",
    "    oid = participant[0]\n",
    "    query = f\"\"\"INSERT INTO [dbo].[Bank] ([Oid], [AccountType]) VALUES ('{oid}', '{account_type}')\"\"\"\n",
    "    cursor.execute(query)\n",
    "cursor.commit()"
   ]
  },
  {
   "cell_type": "code",
   "execution_count": 60,
   "metadata": {},
   "outputs": [
    {
     "name": "stdout",
     "output_type": "stream",
     "text": [
      "('9FCE29AE-E0DC-45C8-BD44-03BC90A2C479', 'C14044C4-0D50-4BCE-AF32-0639F7738026')\n"
     ]
    }
   ],
   "source": [
    "#example\n",
    "query = \"SELECT TOP (1) * FROM [dbo].[Bank]\"\n",
    "cursor.execute(query)\n",
    "for row in cursor.fetchall():\n",
    "    print(row)"
   ]
  },
  {
   "cell_type": "markdown",
   "metadata": {},
   "source": [
    "Заполняем Payment:"
   ]
  },
  {
   "cell_type": "code",
   "execution_count": 62,
   "metadata": {},
   "outputs": [],
   "source": [
    "oid_category = []\n",
    "query = \"SELECT Oid FROM [dbo].[PaymentCategory]\"\n",
    "participants = cursor.execute(query)\n",
    "for participant in participants:\n",
    "    oid_category.append(participant[0])\n",
    "\n",
    "oid_participant = []\n",
    "query = \"SELECT Oid FROM [dbo].[PaymentParticipant]\"\n",
    "participants = cursor.execute(query)\n",
    "for participant in participants:\n",
    "    oid_participant.append(participant[0])\n",
    "\n",
    "oid_project = []\n",
    "query = \"SELECT Oid FROM [dbo].[Project]\"\n",
    "participants = cursor.execute(query)\n",
    "for participant in participants:\n",
    "    oid_project.append(participant[0])\n",
    "\n",
    "for _ in range(num_of_lines):\n",
    "    amount = random.randint(1, 100000)\n",
    "    category = random.choice(oid_category)\n",
    "    check_number = random.randint(10000, 99999)\n",
    "    comment = faker.text(100)\n",
    "    date = gener_date(datetime.datetime(2010, 1, 1), datetime.datetime.now()).isoformat()\n",
    "    created_date = datetime.datetime.fromtimestamp(\n",
    "        int(datetime.datetime.now().timestamp())\n",
    "    ).isoformat()\n",
    "    is_authorized = random.randint(0, 1)\n",
    "    justificaton = faker.text(30)\n",
    "    number = random.randint(10000, 99999)\n",
    "    optimistic_lock_field = random.randint(1, 3)\n",
    "    payee, payer = random.sample(oid_participant, 2)\n",
    "    project = random.choice(oid_project)\n",
    "\n",
    "    query = f\"\"\"INSERT INTO [dbo].[Payment] ([Oid], [Amount], [Category], [Project], [Justification], [Comment], [Date], [Payer], [Payee],\n",
    "                [OptimisticLockField], [GCRecord], [CreateDate], [CheckNumber], [IsAuthorized], [Number]) \n",
    "                VALUES (NEWID(), {amount}, '{category}', '{project}', '{justificaton}', '{comment}', '{date}', '{payer}', '{payee}', \n",
    "                {optimistic_lock_field}, Null, '{created_date}', '{check_number}', {is_authorized}, '{number}')\"\"\"\n",
    "    cursor.execute(query)\n",
    "cursor.commit()"
   ]
  },
  {
   "cell_type": "code",
   "execution_count": 63,
   "metadata": {},
   "outputs": [
    {
     "name": "stdout",
     "output_type": "stream",
     "text": [
      "('AC47AD04-70D9-436A-B07F-005618FE4FC0', 77604, 'CDCA2762-818E-408A-9E57-08C515C2D87E', 'CB815C04-9FF9-4D63-B384-D004D9D77DEC', 'Seat produce wide blue PM.', 'Every evidence ball computer poor. Significant car different about stop talk.', datetime.datetime(2014, 4, 5, 7, 10, 7), '750C22A9-0B5A-4997-B8BC-539458431992', '902BCF08-46A1-4F8A-B7D2-8AF08E689166', 2, None, datetime.datetime(2022, 6, 11, 20, 52, 46), '49883', True, '27256')\n"
     ]
    }
   ],
   "source": [
    "#example\n",
    "query = \"SELECT TOP (1) * FROM [dbo].[Payment]\"\n",
    "cursor.execute(query)\n",
    "for row in cursor.fetchall():\n",
    "    print(row)"
   ]
  }
 ],
 "metadata": {
  "kernelspec": {
   "display_name": "Python 3.9.1 64-bit",
   "language": "python",
   "name": "python3"
  },
  "language_info": {
   "codemirror_mode": {
    "name": "ipython",
    "version": 3
   },
   "file_extension": ".py",
   "mimetype": "text/x-python",
   "name": "python",
   "nbconvert_exporter": "python",
   "pygments_lexer": "ipython3",
   "version": "3.9.1"
  },
  "orig_nbformat": 4,
  "vscode": {
   "interpreter": {
    "hash": "aee8b7b246df8f9039afb4144a1f6fd8d2ca17a180786b69acc140d282b71a49"
   }
  }
 },
 "nbformat": 4,
 "nbformat_minor": 2
}
