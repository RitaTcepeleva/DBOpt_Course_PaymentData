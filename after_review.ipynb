{
 "cells": [
  {
   "cell_type": "markdown",
   "metadata": {},
   "source": [
    "Оценив комментарии, полученные в результате ревью, я решила написать дополнительный скипт, в котором восполню недостаток, озвученный в пункте 1. А именно: \"Работа с индексами выполнена в лоб: нет индекса - создаём, смотрим. А что было бы, если какие-то из предложенных индексов не создавались?\".\n",
    "\n",
    "В данном ноутбуке я планирую оценить работу каждого из предложенных индексов по отдельности.\n",
    "\n",
    "При выполнении задания на уровень 1 мною были предложены индексы на следующие поля: `PaymentCategory.Name`,  `AccountType.Name`, `Supplier.ProfitByMaterialAsPayer`, `Supplier.ProfitByMaterialAsPayee`, `PaymentCategory.ProfitByMaterial`, `PaymentCategory.CostByMaterial`, `PaymentCategory.NotInPaymentParticipantProfit`.\n",
    "\n",
    "Предлагаю изначально скопировать основу из скипта `task_level_1.ipynb`, которая содержит импорт необходимых модулей, подключение к БД, необходимые функции для проведения транзакций. Далее провести транзации INSERT и UPDATE без индексов, получить время их выполнения. Затем предлагаю по очереди создавать предложенные индексы и оценивать время выполнения данных транзакций уже с ним."
   ]
  },
  {
   "cell_type": "code",
   "execution_count": 1,
   "metadata": {},
   "outputs": [],
   "source": [
    "import datetime\n",
    "import random\n",
    "import pyodbc\n",
    "from faker import Faker\n",
    "\n",
    "database = 'PaymentData'\n",
    "user = 'sa'\n",
    "password = 'reallyStrongPwd123'\n",
    "cnxn = pyodbc.connect('DSN='+database+';DATABASE='+database+';UID='+user+';PWD='+ password)\n",
    "cursor = cnxn.cursor()\n",
    "\n",
    "faker = Faker()"
   ]
  },
  {
   "cell_type": "code",
   "execution_count": 2,
   "metadata": {},
   "outputs": [],
   "source": [
    "def gener_date(start_time, end_time):\n",
    "    return datetime.datetime.fromtimestamp(\n",
    "            random.randint(int(start_time.timestamp()), int(end_time.timestamp()))\n",
    "        )"
   ]
  },
  {
   "cell_type": "code",
   "execution_count": 3,
   "metadata": {},
   "outputs": [],
   "source": [
    "#copy of Payment Insertion block from data_generation.ipynb\n",
    "\n",
    "def payment_insertion(num_of_lines):\n",
    "    oid_category = []\n",
    "    query = \"SELECT Oid FROM [dbo].[PaymentCategory]\"\n",
    "    participants = cursor.execute(query)\n",
    "    for participant in participants:\n",
    "        oid_category.append(participant[0])\n",
    "\n",
    "    oid_participant = []\n",
    "    query = \"SELECT Oid FROM [dbo].[PaymentParticipant]\"\n",
    "    participants = cursor.execute(query)\n",
    "    for participant in participants:\n",
    "        oid_participant.append(participant[0])\n",
    "\n",
    "    oid_project = []\n",
    "    query = \"SELECT Oid FROM [dbo].[Project]\"\n",
    "    participants = cursor.execute(query)\n",
    "    for participant in participants:\n",
    "        oid_project.append(participant[0])\n",
    "\n",
    "    for _ in range(num_of_lines):\n",
    "        amount = random.randint(1, 100000)\n",
    "        category = random.choice(oid_category)\n",
    "        check_number = random.randint(10000, 99999)\n",
    "        comment = faker.text(100)\n",
    "        date = gener_date(datetime.datetime(2010, 1, 1), datetime.datetime.now()).isoformat()\n",
    "        created_date = datetime.datetime.fromtimestamp(\n",
    "            int(datetime.datetime.now().timestamp())\n",
    "        ).isoformat()\n",
    "        is_authorized = random.randint(0, 1)\n",
    "        justificaton = faker.text(30)\n",
    "        number = random.randint(10000, 99999)\n",
    "        optimistic_lock_field = random.randint(1, 3)\n",
    "        payee, payer = random.sample(oid_participant, 2)\n",
    "        project = random.choice(oid_project)\n",
    "\n",
    "        query = f\"\"\"INSERT INTO [dbo].[Payment] ([Oid], [Amount], [Category], [Project], [Justification], [Comment], [Date], [Payer], [Payee],\n",
    "                    [OptimisticLockField], [GCRecord], [CreateDate], [CheckNumber], [IsAuthorized], [Number]) \n",
    "                    VALUES (NEWID(), {amount}, '{category}', '{project}', '{justificaton}', '{comment}', '{date}', '{payer}', '{payee}', \n",
    "                    {optimistic_lock_field}, Null, '{created_date}', '{check_number}', {is_authorized}, '{number}')\"\"\"\n",
    "        cursor.execute(query)\n",
    "    cursor.commit()"
   ]
  },
  {
   "cell_type": "code",
   "execution_count": 4,
   "metadata": {},
   "outputs": [],
   "source": [
    "#need a func for update\n",
    "\n",
    "def payment_update(num_of_lines):\n",
    "    oid_project = []\n",
    "    query = f\"\"\"SELECT TOP {num_of_lines} Oid FROM [dbo].[Project]\"\"\"\n",
    "    participants = cursor.execute(query)\n",
    "    for participant in participants:\n",
    "        oid_project.append(participant[0])\n",
    "    \n",
    "    oid_category = []\n",
    "    query = \"SELECT Oid FROM [dbo].[PaymentCategory]\"\n",
    "    participants = cursor.execute(query)\n",
    "    for participant in participants:\n",
    "        oid_category.append(participant[0])\n",
    "\n",
    "    oid_participant = []\n",
    "    query = \"SELECT Oid FROM [dbo].[PaymentParticipant]\"\n",
    "    participants = cursor.execute(query)\n",
    "    for participant in participants:\n",
    "        oid_participant.append(participant[0])\n",
    "\n",
    "    for project in oid_project:\n",
    "        amount = random.randint(1, 100000)\n",
    "        category = random.choice(oid_category)\n",
    "        check_number = random.randint(10000, 99999)\n",
    "        comment = faker.text(100)\n",
    "        justificaton = faker.text(30)\n",
    "        number = random.randint(10000, 99999)\n",
    "        payee, payer = random.sample(oid_participant, 2)\n",
    "\n",
    "        query = f\"\"\"UPDATE [dbo].[Payment] SET [Amount] = {amount}, [Category] = '{category}', [Justification] = '{justificaton}',\n",
    "                [Comment] = '{comment}', [Payer] = '{payer}', [Payee] = '{payee}', [CheckNumber] = {check_number}, [Number] = {number} WHERE [Project] = '{project}'\"\"\"\n",
    "        cursor.execute(query)\n",
    "    cursor.commit()"
   ]
  },
  {
   "cell_type": "markdown",
   "metadata": {},
   "source": [
    "На данном этапе скопирована основа из скрипта `task_level_1.ipynb`. Давайте посмотрим, сколько по времени выполняются транзакции без использования индексов.\n",
    "\n",
    "PS: предлагаю проводить несколько экспериментов, в котором будет меняться количество добавляемых/изменяемых строк. Пусть будем использовать значения 1, 10, 100."
   ]
  },
  {
   "cell_type": "code",
   "execution_count": 5,
   "metadata": {},
   "outputs": [],
   "source": [
    "# to clean data\n",
    "def clean_payment_table():\n",
    "    query = \"DELETE FROM [dbo].[Payment]\"\n",
    "    cursor.execute(query)\n",
    "    cursor.commit()"
   ]
  },
  {
   "cell_type": "code",
   "execution_count": 6,
   "metadata": {},
   "outputs": [
    {
     "name": "stdout",
     "output_type": "stream",
     "text": [
      "INSERT 1 строки (без добавления индексов):  0.700305\n",
      "INSERT 10 строк (без добавления индексов):  0.763733\n",
      "INSERT 100 строк (без добавления индексов):  2.931243\n"
     ]
    }
   ],
   "source": [
    "clean_payment_table()\n",
    "\n",
    "beginner_time = datetime.datetime.now()\n",
    "payment_insertion(1)\n",
    "stop_time = datetime.datetime.now()\n",
    "\n",
    "print('INSERT 1 строки (без добавления индексов): ', (stop_time - beginner_time).total_seconds())\n",
    "\n",
    "clean_payment_table()\n",
    "\n",
    "beginner_time = datetime.datetime.now()\n",
    "payment_insertion(10)\n",
    "stop_time = datetime.datetime.now()\n",
    "print('INSERT 10 строк (без добавления индексов): ', (stop_time - beginner_time).total_seconds())\n",
    "\n",
    "clean_payment_table()\n",
    "\n",
    "beginner_time = datetime.datetime.now()\n",
    "payment_insertion(100)\n",
    "stop_time = datetime.datetime.now()\n",
    "print('INSERT 100 строк (без добавления индексов): ', (stop_time - beginner_time).total_seconds())"
   ]
  },
  {
   "cell_type": "markdown",
   "metadata": {},
   "source": [
    "Видно, что добавление 1 строки от добавления 10 несильно отличается, зато при добавлении 100 строк время выполнения возросло и достигло почти 3 секунды. Тем не менее, видно, что скорость выполнения отдельного INSERT гораздо медленнее, чем выполнение отдельно взятого INSERT'a из пачки INSERT'ов.\n",
    "\n",
    "Теперь выполним операции с UPDATE:"
   ]
  },
  {
   "cell_type": "code",
   "execution_count": 7,
   "metadata": {},
   "outputs": [
    {
     "name": "stdout",
     "output_type": "stream",
     "text": [
      "UPDATE 1 строки (без добавления индексов):  0.331093\n",
      "UPDATE 10 строк (без добавления индексов):  0.167329\n",
      "UPDATE 100 строк (без добавления индексов):  1.304057\n"
     ]
    }
   ],
   "source": [
    "beginner_time = datetime.datetime.now()\n",
    "payment_update(1)\n",
    "stop_time = datetime.datetime.now()\n",
    "\n",
    "print('UPDATE 1 строки (без добавления индексов): ', (stop_time - beginner_time).total_seconds())\n",
    "\n",
    "beginner_time = datetime.datetime.now()\n",
    "payment_update(10)\n",
    "stop_time = datetime.datetime.now()\n",
    "\n",
    "print('UPDATE 10 строк (без добавления индексов): ', (stop_time - beginner_time).total_seconds())\n",
    "\n",
    "beginner_time = datetime.datetime.now()\n",
    "payment_update(100)\n",
    "stop_time = datetime.datetime.now()\n",
    "\n",
    "print('UPDATE 100 строк (без добавления индексов): ', (stop_time - beginner_time).total_seconds())"
   ]
  },
  {
   "cell_type": "markdown",
   "metadata": {},
   "source": [
    "Странно, что UPDATE 10 строк вышел быстрее, чем UPDATE одной строки. Это могу связать лишь с тем, что при втором и последующих выполнениях одного и того же запроса физические чтения могут уменьшаться, а повторная компиляция может не потребоваться. Из-за этого возникает ситуация, что второй и последующие разы запрос выполняется быстрее чем первый. Причина состоит в кэшировании данных и скомпилированных планах запросов.\n",
    "\n",
    "Теперь будем рассматривать отдельно работу предложенных индексов. Добавим сначала индекс на поле `PaymentCategory.Name`:"
   ]
  },
  {
   "cell_type": "code",
   "execution_count": 8,
   "metadata": {},
   "outputs": [],
   "source": [
    "cursor.execute(\"CREATE NONCLUSTERED INDEX iName_PaymentCategory ON [dbo].[PaymentCategory] (Name)\")\n",
    "cursor.commit()"
   ]
  },
  {
   "cell_type": "markdown",
   "metadata": {},
   "source": [
    "Оценим, как изменится время выполнения запросов:"
   ]
  },
  {
   "cell_type": "code",
   "execution_count": 9,
   "metadata": {},
   "outputs": [
    {
     "name": "stdout",
     "output_type": "stream",
     "text": [
      "INSERT 1 строки (индекс PaymentCategory.Name):  0.383225\n",
      "INSERT 10 строк (индекс PaymentCategory.Name):  0.119888\n",
      "INSERT 100 строк (индекс PaymentCategory.Name):  0.739377\n"
     ]
    }
   ],
   "source": [
    "clean_payment_table()\n",
    "\n",
    "beginner_time = datetime.datetime.now()\n",
    "payment_insertion(1)\n",
    "stop_time = datetime.datetime.now()\n",
    "\n",
    "print('INSERT 1 строки (индекс PaymentCategory.Name): ', (stop_time - beginner_time).total_seconds())\n",
    "\n",
    "clean_payment_table()\n",
    "\n",
    "beginner_time = datetime.datetime.now()\n",
    "payment_insertion(10)\n",
    "stop_time = datetime.datetime.now()\n",
    "print('INSERT 10 строк (индекс PaymentCategory.Name): ', (stop_time - beginner_time).total_seconds())\n",
    "\n",
    "clean_payment_table()\n",
    "\n",
    "beginner_time = datetime.datetime.now()\n",
    "payment_insertion(100)\n",
    "stop_time = datetime.datetime.now()\n",
    "print('INSERT 100 строк (индекс PaymentCategory.Name): ', (stop_time - beginner_time).total_seconds())"
   ]
  },
  {
   "cell_type": "code",
   "execution_count": 10,
   "metadata": {},
   "outputs": [
    {
     "name": "stdout",
     "output_type": "stream",
     "text": [
      "UPDATE 1 строки (индекс PaymentCategory.Name):  0.033998\n",
      "UPDATE 10 строк (индекс PaymentCategory.Name):  0.116717\n",
      "UPDATE 100 строк (индекс PaymentCategory.Name):  1.719621\n"
     ]
    }
   ],
   "source": [
    "beginner_time = datetime.datetime.now()\n",
    "payment_update(1)\n",
    "stop_time = datetime.datetime.now()\n",
    "\n",
    "print('UPDATE 1 строки (индекс PaymentCategory.Name): ', (stop_time - beginner_time).total_seconds())\n",
    "\n",
    "beginner_time = datetime.datetime.now()\n",
    "payment_update(10)\n",
    "stop_time = datetime.datetime.now()\n",
    "\n",
    "print('UPDATE 10 строк (индекс PaymentCategory.Name): ', (stop_time - beginner_time).total_seconds())\n",
    "\n",
    "beginner_time = datetime.datetime.now()\n",
    "payment_update(100)\n",
    "stop_time = datetime.datetime.now()\n",
    "\n",
    "print('UPDATE 100 строк (индекс PaymentCategory.Name): ', (stop_time - beginner_time).total_seconds())"
   ]
  },
  {
   "cell_type": "markdown",
   "metadata": {},
   "source": [
    "Время работы запросов с INSERT улучшилось. Снова наблюдается быстрое выполнение INSERT'a на 10 строк в сравнении за запросом на добавление одной строки. Со 100 строками такого не наблюдается, тк значение все таки на порядок выше и такое явление, как \"кэширование данных\", не в состоянии скорее всего покрыть выросший объем. А в ситуации с 10-ю запросами, получается, в состоянии.\n",
    "\n",
    "По поводу UPDATE вижу, что при изменении малого кол-ва строк наблюдается улучшение. При увеличении порядка наблюдается ухудшение.\n",
    "\n",
    "В целом индекс скорее полезный, чем нет. В конечном счете я бы его оставила.\n",
    "\n",
    "Удалим созданный индекс, добавим второй (`AccountType.Name`) и проведем те же операции:"
   ]
  },
  {
   "cell_type": "code",
   "execution_count": 17,
   "metadata": {},
   "outputs": [],
   "source": [
    "cursor.execute(\"DROP INDEX iName_PaymentCategory ON [dbo].[PaymentCategory]\")\n",
    "cursor.commit()"
   ]
  },
  {
   "cell_type": "code",
   "execution_count": 18,
   "metadata": {},
   "outputs": [],
   "source": [
    "cursor.execute(\"CREATE NONCLUSTERED INDEX iName_AccountType ON [dbo].[AccountType] (Name)\")\n",
    "cursor.commit()"
   ]
  },
  {
   "cell_type": "code",
   "execution_count": 19,
   "metadata": {},
   "outputs": [
    {
     "name": "stdout",
     "output_type": "stream",
     "text": [
      "INSERT 1 строки (индекс AccountType.Name):  0.573669\n",
      "INSERT 10 строк (индекс AccountType.Name):  0.096858\n",
      "INSERT 100 строк (индекс AccountType.Name):  0.981719\n",
      "UPDATE 1 строки (индекс AccountType.Name):  0.020084\n",
      "UPDATE 10 строк (индекс AccountType.Name):  0.105488\n",
      "UPDATE 100 строк (индекс AccountType.Name):  1.361697\n"
     ]
    }
   ],
   "source": [
    "clean_payment_table()\n",
    "\n",
    "beginner_time = datetime.datetime.now()\n",
    "payment_insertion(1)\n",
    "stop_time = datetime.datetime.now()\n",
    "\n",
    "print('INSERT 1 строки (индекс AccountType.Name): ', (stop_time - beginner_time).total_seconds())\n",
    "\n",
    "clean_payment_table()\n",
    "\n",
    "beginner_time = datetime.datetime.now()\n",
    "payment_insertion(10)\n",
    "stop_time = datetime.datetime.now()\n",
    "print('INSERT 10 строк (индекс AccountType.Name): ', (stop_time - beginner_time).total_seconds())\n",
    "\n",
    "clean_payment_table()\n",
    "\n",
    "beginner_time = datetime.datetime.now()\n",
    "payment_insertion(100)\n",
    "stop_time = datetime.datetime.now()\n",
    "print('INSERT 100 строк (индекс AccountType.Name): ', (stop_time - beginner_time).total_seconds())\n",
    "\n",
    "beginner_time = datetime.datetime.now()\n",
    "payment_update(1)\n",
    "stop_time = datetime.datetime.now()\n",
    "\n",
    "print('UPDATE 1 строки (индекс AccountType.Name): ', (stop_time - beginner_time).total_seconds())\n",
    "\n",
    "beginner_time = datetime.datetime.now()\n",
    "payment_update(10)\n",
    "stop_time = datetime.datetime.now()\n",
    "\n",
    "print('UPDATE 10 строк (индекс AccountType.Name): ', (stop_time - beginner_time).total_seconds())\n",
    "\n",
    "beginner_time = datetime.datetime.now()\n",
    "payment_update(100)\n",
    "stop_time = datetime.datetime.now()\n",
    "\n",
    "print('UPDATE 100 строк (индекс AccountType.Name): ', (stop_time - beginner_time).total_seconds())"
   ]
  },
  {
   "cell_type": "markdown",
   "metadata": {},
   "source": [
    "В некотором смысле результаты даже лучше, чем при добавлении предыдущего индекса, за исключением INSERT 100 строк. Поэтому вердикт: оставить.\n",
    "\n",
    "Удалим данный индекс, добавим следующий (`Supplier.ProfitByMaterialAsPayer`):"
   ]
  },
  {
   "cell_type": "code",
   "execution_count": 20,
   "metadata": {},
   "outputs": [],
   "source": [
    "cursor.execute(\"DROP INDEX iName_AccountType ON [dbo].[AccountType]\")\n",
    "cursor.commit()"
   ]
  },
  {
   "cell_type": "code",
   "execution_count": 21,
   "metadata": {},
   "outputs": [],
   "source": [
    "cursor.execute(\"CREATE NONCLUSTERED INDEX iProfitByMaterialAsPayer_Supplier ON [dbo].[Supplier] (ProfitByMaterialAsPayer)\")\n",
    "cursor.commit()"
   ]
  },
  {
   "cell_type": "code",
   "execution_count": 22,
   "metadata": {},
   "outputs": [
    {
     "name": "stdout",
     "output_type": "stream",
     "text": [
      "INSERT 1 строки (индекс Supplier.ProfitByMaterialAsPayer):  0.258058\n",
      "INSERT 10 строк (индекс Supplier.ProfitByMaterialAsPayer):  0.130145\n",
      "INSERT 100 строк (индекс Supplier.ProfitByMaterialAsPayer):  1.0135\n",
      "UPDATE 1 строки (индекс Supplier.ProfitByMaterialAsPayer):  0.014806\n",
      "UPDATE 10 строк (индекс Supplier.ProfitByMaterialAsPayer):  0.094439\n",
      "UPDATE 100 строк (индекс Supplier.ProfitByMaterialAsPayer):  1.365086\n"
     ]
    }
   ],
   "source": [
    "clean_payment_table()\n",
    "\n",
    "beginner_time = datetime.datetime.now()\n",
    "payment_insertion(1)\n",
    "stop_time = datetime.datetime.now()\n",
    "\n",
    "print('INSERT 1 строки (индекс Supplier.ProfitByMaterialAsPayer): ', (stop_time - beginner_time).total_seconds())\n",
    "\n",
    "clean_payment_table()\n",
    "\n",
    "beginner_time = datetime.datetime.now()\n",
    "payment_insertion(10)\n",
    "stop_time = datetime.datetime.now()\n",
    "print('INSERT 10 строк (индекс Supplier.ProfitByMaterialAsPayer): ', (stop_time - beginner_time).total_seconds())\n",
    "\n",
    "clean_payment_table()\n",
    "\n",
    "beginner_time = datetime.datetime.now()\n",
    "payment_insertion(100)\n",
    "stop_time = datetime.datetime.now()\n",
    "print('INSERT 100 строк (индекс Supplier.ProfitByMaterialAsPayer): ', (stop_time - beginner_time).total_seconds())\n",
    "\n",
    "beginner_time = datetime.datetime.now()\n",
    "payment_update(1)\n",
    "stop_time = datetime.datetime.now()\n",
    "\n",
    "print('UPDATE 1 строки (индекс Supplier.ProfitByMaterialAsPayer): ', (stop_time - beginner_time).total_seconds())\n",
    "\n",
    "beginner_time = datetime.datetime.now()\n",
    "payment_update(10)\n",
    "stop_time = datetime.datetime.now()\n",
    "\n",
    "print('UPDATE 10 строк (индекс Supplier.ProfitByMaterialAsPayer): ', (stop_time - beginner_time).total_seconds())\n",
    "\n",
    "beginner_time = datetime.datetime.now()\n",
    "payment_update(100)\n",
    "stop_time = datetime.datetime.now()\n",
    "\n",
    "print('UPDATE 100 строк (индекс Supplier.ProfitByMaterialAsPayer): ', (stop_time - beginner_time).total_seconds())"
   ]
  },
  {
   "cell_type": "markdown",
   "metadata": {},
   "source": [
    "Данный индекс сокращает время исполнения запросов INSERT/UPDATE и в сравнении как с начальными данными, так и с предыдущими индексами. Оставить.\n",
    "\n",
    "Удалим данный индекс, проверим следующий (`Supplier.ProfitByMaterialAsPayee`):"
   ]
  },
  {
   "cell_type": "code",
   "execution_count": 23,
   "metadata": {},
   "outputs": [],
   "source": [
    "cursor.execute(\"DROP INDEX iProfitByMaterialAsPayer_Supplier ON [dbo].[Supplier]\")\n",
    "cursor.commit()"
   ]
  },
  {
   "cell_type": "code",
   "execution_count": 24,
   "metadata": {},
   "outputs": [],
   "source": [
    "cursor.execute(\"CREATE NONCLUSTERED INDEX iProfitByMaterialAsPayee_Supplier ON [dbo].[Supplier] (ProfitByMaterialAsPayee)\")\n",
    "cursor.commit()"
   ]
  },
  {
   "cell_type": "code",
   "execution_count": 25,
   "metadata": {},
   "outputs": [
    {
     "name": "stdout",
     "output_type": "stream",
     "text": [
      "INSERT 1 строки (индекс Supplier.ProfitByMaterialAsPayer):  0.06391\n",
      "INSERT 10 строк (индекс Supplier.ProfitByMaterialAsPayer):  0.116162\n",
      "INSERT 100 строк (индекс Supplier.ProfitByMaterialAsPayer):  0.771646\n",
      "UPDATE 1 строки (индекс Supplier.ProfitByMaterialAsPayer):  0.022103\n",
      "UPDATE 10 строк (индекс Supplier.ProfitByMaterialAsPayer):  0.100325\n",
      "UPDATE 100 строк (индекс Supplier.ProfitByMaterialAsPayer):  0.971273\n"
     ]
    }
   ],
   "source": [
    "clean_payment_table()\n",
    "\n",
    "beginner_time = datetime.datetime.now()\n",
    "payment_insertion(1)\n",
    "stop_time = datetime.datetime.now()\n",
    "\n",
    "print('INSERT 1 строки (индекс Supplier.ProfitByMaterialAsPayer): ', (stop_time - beginner_time).total_seconds())\n",
    "\n",
    "clean_payment_table()\n",
    "\n",
    "beginner_time = datetime.datetime.now()\n",
    "payment_insertion(10)\n",
    "stop_time = datetime.datetime.now()\n",
    "print('INSERT 10 строк (индекс Supplier.ProfitByMaterialAsPayer): ', (stop_time - beginner_time).total_seconds())\n",
    "\n",
    "clean_payment_table()\n",
    "\n",
    "beginner_time = datetime.datetime.now()\n",
    "payment_insertion(100)\n",
    "stop_time = datetime.datetime.now()\n",
    "print('INSERT 100 строк (индекс Supplier.ProfitByMaterialAsPayer): ', (stop_time - beginner_time).total_seconds())\n",
    "\n",
    "beginner_time = datetime.datetime.now()\n",
    "payment_update(1)\n",
    "stop_time = datetime.datetime.now()\n",
    "\n",
    "print('UPDATE 1 строки (индекс Supplier.ProfitByMaterialAsPayer): ', (stop_time - beginner_time).total_seconds())\n",
    "\n",
    "beginner_time = datetime.datetime.now()\n",
    "payment_update(10)\n",
    "stop_time = datetime.datetime.now()\n",
    "\n",
    "print('UPDATE 10 строк (индекс Supplier.ProfitByMaterialAsPayer): ', (stop_time - beginner_time).total_seconds())\n",
    "\n",
    "beginner_time = datetime.datetime.now()\n",
    "payment_update(100)\n",
    "stop_time = datetime.datetime.now()\n",
    "\n",
    "print('UPDATE 100 строк (индекс Supplier.ProfitByMaterialAsPayer): ', (stop_time - beginner_time).total_seconds())"
   ]
  },
  {
   "cell_type": "markdown",
   "metadata": {},
   "source": [
    "Каждый новый индекс показывает результаты лучшие, чем предыдущий. Уверена, что так происходит из-за ситуации, которую я уже описывала. Сложно конечно таким образом объективно оценивать полезность индексов. Я считаю, имеет смысл просто проверить далее все индексы и посмотреть, сохраняется ли тенденция. И если какой-то индекс будет выбиваться из последовательности, принимать решение о его исключении из набора."
   ]
  },
  {
   "cell_type": "code",
   "execution_count": 26,
   "metadata": {},
   "outputs": [],
   "source": [
    "cursor.execute(\"DROP INDEX iProfitByMaterialAsPayee_Supplier ON [dbo].[Supplier]\")\n",
    "cursor.commit()"
   ]
  },
  {
   "cell_type": "code",
   "execution_count": 27,
   "metadata": {},
   "outputs": [],
   "source": [
    "cursor.execute(\"CREATE NONCLUSTERED INDEX iProfitByMaterial_PaymentCategory ON [dbo].[PaymentCategory] (ProfitByMaterial)\")\n",
    "cursor.commit()"
   ]
  },
  {
   "cell_type": "code",
   "execution_count": 28,
   "metadata": {},
   "outputs": [
    {
     "name": "stdout",
     "output_type": "stream",
     "text": [
      "INSERT 1 строки (индекс Supplier.ProfitByMaterialAsPayer):  0.194718\n",
      "INSERT 10 строк (индекс Supplier.ProfitByMaterialAsPayer):  0.085957\n",
      "INSERT 100 строк (индекс Supplier.ProfitByMaterialAsPayer):  1.313085\n",
      "UPDATE 1 строки (индекс Supplier.ProfitByMaterialAsPayer):  0.015509\n",
      "UPDATE 10 строк (индекс Supplier.ProfitByMaterialAsPayer):  0.14899\n",
      "UPDATE 100 строк (индекс Supplier.ProfitByMaterialAsPayer):  1.155862\n"
     ]
    }
   ],
   "source": [
    "clean_payment_table()\n",
    "\n",
    "beginner_time = datetime.datetime.now()\n",
    "payment_insertion(1)\n",
    "stop_time = datetime.datetime.now()\n",
    "\n",
    "print('INSERT 1 строки (индекс Supplier.ProfitByMaterialAsPayer): ', (stop_time - beginner_time).total_seconds())\n",
    "\n",
    "clean_payment_table()\n",
    "\n",
    "beginner_time = datetime.datetime.now()\n",
    "payment_insertion(10)\n",
    "stop_time = datetime.datetime.now()\n",
    "print('INSERT 10 строк (индекс Supplier.ProfitByMaterialAsPayer): ', (stop_time - beginner_time).total_seconds())\n",
    "\n",
    "clean_payment_table()\n",
    "\n",
    "beginner_time = datetime.datetime.now()\n",
    "payment_insertion(100)\n",
    "stop_time = datetime.datetime.now()\n",
    "print('INSERT 100 строк (индекс Supplier.ProfitByMaterialAsPayer): ', (stop_time - beginner_time).total_seconds())\n",
    "\n",
    "beginner_time = datetime.datetime.now()\n",
    "payment_update(1)\n",
    "stop_time = datetime.datetime.now()\n",
    "\n",
    "print('UPDATE 1 строки (индекс Supplier.ProfitByMaterialAsPayer): ', (stop_time - beginner_time).total_seconds())\n",
    "\n",
    "beginner_time = datetime.datetime.now()\n",
    "payment_update(10)\n",
    "stop_time = datetime.datetime.now()\n",
    "\n",
    "print('UPDATE 10 строк (индекс Supplier.ProfitByMaterialAsPayer): ', (stop_time - beginner_time).total_seconds())\n",
    "\n",
    "beginner_time = datetime.datetime.now()\n",
    "payment_update(100)\n",
    "stop_time = datetime.datetime.now()\n",
    "\n",
    "print('UPDATE 100 строк (индекс Supplier.ProfitByMaterialAsPayer): ', (stop_time - beginner_time).total_seconds())"
   ]
  },
  {
   "cell_type": "markdown",
   "metadata": {},
   "source": [
    "Индекс из тенденции не выбивается, но время на добавление/изменение 100 строк увеличилось. Но оно не самое худшее. Оставить."
   ]
  },
  {
   "cell_type": "code",
   "execution_count": 29,
   "metadata": {},
   "outputs": [],
   "source": [
    "cursor.execute(\"DROP INDEX iProfitByMaterial_PaymentCategory ON [dbo].[PaymentCategory]\")\n",
    "cursor.commit()\n",
    "\n",
    "cursor.execute(\"CREATE NONCLUSTERED INDEX iCostByMaterial_PaymentCategory ON [dbo].[PaymentCategory] (CostByMaterial)\")\n",
    "cursor.commit()"
   ]
  },
  {
   "cell_type": "code",
   "execution_count": 30,
   "metadata": {},
   "outputs": [
    {
     "name": "stdout",
     "output_type": "stream",
     "text": [
      "INSERT 1 строки (индекс PaymentCategory.CostByMaterial):  0.197042\n",
      "INSERT 10 строк (индекс PaymentCategory.CostByMaterial):  0.073267\n",
      "INSERT 100 строк (индекс PaymentCategory.CostByMaterial):  0.785569\n",
      "UPDATE 1 строки (индекс PaymentCategory.CostByMaterial):  0.013668\n",
      "UPDATE 10 строк (индекс PaymentCategory.CostByMaterial):  0.083515\n",
      "UPDATE 100 строк (индекс PaymentCategory.CostByMaterial):  0.923495\n"
     ]
    }
   ],
   "source": [
    "clean_payment_table()\n",
    "\n",
    "beginner_time = datetime.datetime.now()\n",
    "payment_insertion(1)\n",
    "stop_time = datetime.datetime.now()\n",
    "\n",
    "print('INSERT 1 строки (индекс PaymentCategory.CostByMaterial): ', (stop_time - beginner_time).total_seconds())\n",
    "\n",
    "clean_payment_table()\n",
    "\n",
    "beginner_time = datetime.datetime.now()\n",
    "payment_insertion(10)\n",
    "stop_time = datetime.datetime.now()\n",
    "print('INSERT 10 строк (индекс PaymentCategory.CostByMaterial): ', (stop_time - beginner_time).total_seconds())\n",
    "\n",
    "clean_payment_table()\n",
    "\n",
    "beginner_time = datetime.datetime.now()\n",
    "payment_insertion(100)\n",
    "stop_time = datetime.datetime.now()\n",
    "print('INSERT 100 строк (индекс PaymentCategory.CostByMaterial): ', (stop_time - beginner_time).total_seconds())\n",
    "\n",
    "beginner_time = datetime.datetime.now()\n",
    "payment_update(1)\n",
    "stop_time = datetime.datetime.now()\n",
    "\n",
    "print('UPDATE 1 строки (индекс PaymentCategory.CostByMaterial): ', (stop_time - beginner_time).total_seconds())\n",
    "\n",
    "beginner_time = datetime.datetime.now()\n",
    "payment_update(10)\n",
    "stop_time = datetime.datetime.now()\n",
    "\n",
    "print('UPDATE 10 строк (индекс PaymentCategory.CostByMaterial): ', (stop_time - beginner_time).total_seconds())\n",
    "\n",
    "beginner_time = datetime.datetime.now()\n",
    "payment_update(100)\n",
    "stop_time = datetime.datetime.now()\n",
    "\n",
    "print('UPDATE 100 строк (индекс PaymentCategory.CostByMaterial): ', (stop_time - beginner_time).total_seconds())"
   ]
  },
  {
   "cell_type": "markdown",
   "metadata": {},
   "source": [
    "Из тенденции не выбивается, оставить."
   ]
  },
  {
   "cell_type": "code",
   "execution_count": 31,
   "metadata": {},
   "outputs": [],
   "source": [
    "cursor.execute(\"DROP INDEX iCostByMaterial_PaymentCategory ON [dbo].[PaymentCategory]\")\n",
    "cursor.commit()\n",
    "\n",
    "cursor.execute(\"CREATE NONCLUSTERED INDEX iNotInPaymentParticipantProfit_PaymentCategory ON [dbo].[PaymentCategory] (NotInPaymentParticipantProfit)\")\n",
    "cursor.commit()"
   ]
  },
  {
   "cell_type": "code",
   "execution_count": 32,
   "metadata": {},
   "outputs": [
    {
     "name": "stdout",
     "output_type": "stream",
     "text": [
      "INSERT 1 строки (индекс PaymentCategory.NotInPaymentParticipantProfit):  0.181426\n",
      "INSERT 10 строк (индекс PaymentCategory.NotInPaymentParticipantProfit):  0.072708\n",
      "INSERT 100 строк (индекс PaymentCategory.NotInPaymentParticipantProfit):  4.745416\n",
      "UPDATE 1 строки (индекс PaymentCategory.NotInPaymentParticipantProfit):  0.018332\n",
      "UPDATE 10 строк (индекс PaymentCategory.NotInPaymentParticipantProfit):  0.127468\n",
      "UPDATE 100 строк (индекс PaymentCategory.NotInPaymentParticipantProfit):  2.517406\n"
     ]
    }
   ],
   "source": [
    "clean_payment_table()\n",
    "\n",
    "beginner_time = datetime.datetime.now()\n",
    "payment_insertion(1)\n",
    "stop_time = datetime.datetime.now()\n",
    "\n",
    "print('INSERT 1 строки (индекс PaymentCategory.NotInPaymentParticipantProfit): ', (stop_time - beginner_time).total_seconds())\n",
    "\n",
    "clean_payment_table()\n",
    "\n",
    "beginner_time = datetime.datetime.now()\n",
    "payment_insertion(10)\n",
    "stop_time = datetime.datetime.now()\n",
    "print('INSERT 10 строк (индекс PaymentCategory.NotInPaymentParticipantProfit): ', (stop_time - beginner_time).total_seconds())\n",
    "\n",
    "clean_payment_table()\n",
    "\n",
    "beginner_time = datetime.datetime.now()\n",
    "payment_insertion(100)\n",
    "stop_time = datetime.datetime.now()\n",
    "print('INSERT 100 строк (индекс PaymentCategory.NotInPaymentParticipantProfit): ', (stop_time - beginner_time).total_seconds())\n",
    "\n",
    "beginner_time = datetime.datetime.now()\n",
    "payment_update(1)\n",
    "stop_time = datetime.datetime.now()\n",
    "\n",
    "print('UPDATE 1 строки (индекс PaymentCategory.NotInPaymentParticipantProfit): ', (stop_time - beginner_time).total_seconds())\n",
    "\n",
    "beginner_time = datetime.datetime.now()\n",
    "payment_update(10)\n",
    "stop_time = datetime.datetime.now()\n",
    "\n",
    "print('UPDATE 10 строк (индекс PaymentCategory.NotInPaymentParticipantProfit): ', (stop_time - beginner_time).total_seconds())\n",
    "\n",
    "beginner_time = datetime.datetime.now()\n",
    "payment_update(100)\n",
    "stop_time = datetime.datetime.now()\n",
    "\n",
    "print('UPDATE 100 строк (индекс PaymentCategory.NotInPaymentParticipantProfit): ', (stop_time - beginner_time).total_seconds())"
   ]
  },
  {
   "cell_type": "markdown",
   "metadata": {},
   "source": [
    "Выбивается из тенденции, показывает худшее время, чем даже при начальном прогоне запросов на 100 строках. Я бы не добавляла."
   ]
  }
 ],
 "metadata": {
  "kernelspec": {
   "display_name": "Python 3.9.1 64-bit",
   "language": "python",
   "name": "python3"
  },
  "language_info": {
   "codemirror_mode": {
    "name": "ipython",
    "version": 3
   },
   "file_extension": ".py",
   "mimetype": "text/x-python",
   "name": "python",
   "nbconvert_exporter": "python",
   "pygments_lexer": "ipython3",
   "version": "3.9.1"
  },
  "orig_nbformat": 4,
  "vscode": {
   "interpreter": {
    "hash": "aee8b7b246df8f9039afb4144a1f6fd8d2ca17a180786b69acc140d282b71a49"
   }
  }
 },
 "nbformat": 4,
 "nbformat_minor": 2
}
