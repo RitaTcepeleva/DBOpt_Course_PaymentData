{
 "cells": [
  {
   "cell_type": "markdown",
   "metadata": {},
   "source": [
    "Раздел: Начальные действия. Пункт 5: Разработать простой тест на корректность расчёта баланса."
   ]
  },
  {
   "cell_type": "code",
   "execution_count": 8,
   "metadata": {},
   "outputs": [],
   "source": [
    "import pyodbc\n",
    "import datetime\n",
    "from faker import Faker\n",
    "\n",
    "database = 'PaymentData'\n",
    "user = 'sa'\n",
    "password = 'reallyStrongPwd123'\n",
    "cnxn = pyodbc.connect('DSN='+database+';DATABASE='+database+';UID='+user+';PWD='+ password)\n",
    "cursor = cnxn.cursor()\n",
    "faker = Faker()"
   ]
  },
  {
   "cell_type": "markdown",
   "metadata": {},
   "source": [
    "В данном ноутбуке будет воспроизведен тест, описанный в `Balance description.pdf` документе."
   ]
  },
  {
   "cell_type": "code",
   "execution_count": 9,
   "metadata": {},
   "outputs": [],
   "source": [
    "supplier_obj_type = 0\n",
    "employee_obj_type = 1\n",
    "client_obj_type = 2\n",
    "cashbox_obj_type = 3\n",
    "bank_obj_type = 4"
   ]
  },
  {
   "cell_type": "code",
   "execution_count": 11,
   "metadata": {},
   "outputs": [
    {
     "name": "stdout",
     "output_type": "stream",
     "text": [
      "Test supplier:  5F61E2AD-965A-422E-B826-8EACA48E7366\n",
      "Test bank:  B29FADF9-69CC-4B34-BC78-8BACC79D7362\n",
      "Test client:  9D1B0CA0-101A-436E-9578-99C059175A87\n",
      "Test cashbox:  FC91470D-8F0C-4AAE-96D2-CC90B613C02A\n",
      "Test foreman:  235205B4-BFB3-4CEE-81A8-5CBF8BEEBE49\n",
      "Test manager:  09712C25-B5A1-4B89-91B6-39898CA68D70\n"
     ]
    }
   ],
   "source": [
    "#create test oids and instert it into PaymentParticipant\n",
    "\n",
    "#supplier\n",
    "supplier_oid = cursor.execute(\"SELECT NEWID()\").fetchval()\n",
    "print('Test supplier: ', supplier_oid)\n",
    "active_from = datetime.datetime(2010, 1, 1).isoformat()\n",
    "inactive_from = datetime.datetime(2020, 1, 1).isoformat()\n",
    "name = faker.name()\n",
    "bank_details = faker.bban()\n",
    "\n",
    "query = f\"\"\"INSERT INTO [dbo].[PaymentParticipant] ([Oid], [Balance], [Name], [OptimisticLockField], [GCRecord], \n",
    "    [ObjectType], [ActiveFrom], [InactiveFrom], [BankDetails], [Balance2], [Balance3]) \n",
    "    VALUES ('{supplier_oid}', 0, '{name}', 0, Null, '{cashbox_obj_type}', '{active_from}', \n",
    "    '{inactive_from}', '{bank_details}', 0, 0)\"\"\"\n",
    "\n",
    "cursor.execute(query)\n",
    "cursor.commit()\n",
    "\n",
    "#bank\n",
    "bank_oid = cursor.execute(\"SELECT NEWID()\").fetchval()\n",
    "print('Test bank: ', bank_oid)\n",
    "name = faker.name()\n",
    "bank_details = faker.bban()\n",
    "\n",
    "query = f\"\"\"INSERT INTO [dbo].[PaymentParticipant] ([Oid], [Balance], [Name], [OptimisticLockField], [GCRecord], \n",
    "    [ObjectType], [ActiveFrom], [InactiveFrom], [BankDetails], [Balance2], [Balance3]) \n",
    "    VALUES ('{bank_oid}', 0, '{name}', 0, Null, '{cashbox_obj_type}', '{active_from}', \n",
    "    '{inactive_from}', '{bank_details}', 0, 0)\"\"\"\n",
    "\n",
    "cursor.execute(query)\n",
    "cursor.commit()\n",
    "\n",
    "#client\n",
    "client_oid = cursor.execute(\"SELECT NEWID()\").fetchval()\n",
    "print('Test client: ', client_oid)\n",
    "name = faker.name()\n",
    "bank_details = faker.bban()\n",
    "\n",
    "query = f\"\"\"INSERT INTO [dbo].[PaymentParticipant] ([Oid], [Balance], [Name], [OptimisticLockField], [GCRecord], \n",
    "    [ObjectType], [ActiveFrom], [InactiveFrom], [BankDetails], [Balance2], [Balance3]) \n",
    "    VALUES ('{client_oid}', 0, '{name}', 0, Null, '{cashbox_obj_type}', '{active_from}', \n",
    "    '{inactive_from}', '{bank_details}', 0, 0)\"\"\"\n",
    "\n",
    "cursor.execute(query)\n",
    "cursor.commit()\n",
    "\n",
    "#cashbox\n",
    "cashbox_oid = cursor.execute(\"SELECT NEWID()\").fetchval()\n",
    "print('Test cashbox: ', cashbox_oid)\n",
    "name = faker.name()\n",
    "bank_details = faker.bban()\n",
    "\n",
    "query = f\"\"\"INSERT INTO [dbo].[PaymentParticipant] ([Oid], [Balance], [Name], [OptimisticLockField], [GCRecord], \n",
    "    [ObjectType], [ActiveFrom], [InactiveFrom], [BankDetails], [Balance2], [Balance3]) \n",
    "    VALUES ('{cashbox_oid}', 0, '{name}', 0, Null, '{cashbox_obj_type}', '{active_from}', \n",
    "    '{inactive_from}', '{bank_details}', 0, 0)\"\"\"\n",
    "\n",
    "cursor.execute(query)\n",
    "cursor.commit()\n",
    "\n",
    "#also need fake foreman and fake manager\n",
    "foreman_oid = cursor.execute(\"SELECT NEWID()\").fetchval()\n",
    "print('Test foreman: ', foreman_oid)\n",
    "name = faker.name()\n",
    "bank_details = faker.bban()\n",
    "\n",
    "query = f\"\"\"INSERT INTO [dbo].[PaymentParticipant] ([Oid], [Balance], [Name], [OptimisticLockField], [GCRecord], \n",
    "    [ObjectType], [ActiveFrom], [InactiveFrom], [BankDetails], [Balance2], [Balance3]) \n",
    "    VALUES ('{foreman_oid}', 0, '{name}', 0, Null, '{cashbox_obj_type}', '{active_from}', \n",
    "    '{inactive_from}', '{bank_details}', 0, 0)\"\"\"\n",
    "\n",
    "cursor.execute(query)\n",
    "cursor.commit()\n",
    "\n",
    "manager_oid = cursor.execute(\"SELECT NEWID()\").fetchval()\n",
    "print('Test manager: ', manager_oid)\n",
    "name = faker.name()\n",
    "bank_details = faker.bban()\n",
    "\n",
    "query = f\"\"\"INSERT INTO [dbo].[PaymentParticipant] ([Oid], [Balance], [Name], [OptimisticLockField], [GCRecord], \n",
    "    [ObjectType], [ActiveFrom], [InactiveFrom], [BankDetails], [Balance2], [Balance3]) \n",
    "    VALUES ('{manager_oid}', 0, '{name}', 0, Null, '{cashbox_obj_type}', '{active_from}', \n",
    "    '{inactive_from}', '{bank_details}', 0, 0)\"\"\"\n",
    "\n",
    "cursor.execute(query)\n",
    "cursor.commit()"
   ]
  },
  {
   "cell_type": "code",
   "execution_count": 13,
   "metadata": {},
   "outputs": [],
   "source": [
    "#bank\n",
    "acc_type_oid = cursor.execute(\"SELECT Oid FROM [dbo].[AccountType] WHERE name = N'Авансовый'\").fetchval()\n",
    "cursor.execute(f\"\"\"INSERT INTO [dbo].[Bank] ([Oid], [AccountType]) VALUES ('{bank_oid}', '{acc_type_oid}')\"\"\")\n",
    "cursor.commit()"
   ]
  },
  {
   "cell_type": "code",
   "execution_count": 15,
   "metadata": {},
   "outputs": [],
   "source": [
    "#cashbox\n",
    "acc_type_oid = cursor.execute(\"SELECT Oid FROM [dbo].[AccountType] WHERE name = N'Текущий'\").fetchval()\n",
    "cursor.execute(f\"\"\"INSERT INTO [dbo].[Cashbox] ([Oid], [AccountType]) VALUES ('{cashbox_oid}', '{acc_type_oid}')\"\"\")\n",
    "cursor.commit()"
   ]
  },
  {
   "cell_type": "code",
   "execution_count": 19,
   "metadata": {},
   "outputs": [],
   "source": [
    "#client\n",
    "first_name, last_name = (faker.name()).split(maxsplit=1)\n",
    "phone_number = faker.phone_number()\n",
    "query = f\"\"\"INSERT INTO [dbo].[Client] ([Oid], [FirstName], [SecondName], [Phone])\n",
    "            VALUES ('{client_oid}', '{first_name}', '{last_name}', '{phone_number}')\"\"\"\n",
    "cursor.execute(query)\n",
    "cursor.commit()"
   ]
  },
  {
   "cell_type": "code",
   "execution_count": 20,
   "metadata": {},
   "outputs": [],
   "source": [
    "#supplier\n",
    "name = faker.name()\n",
    "query = f\"\"\"INSERT INTO [dbo].[Supplier] ([Oid], [Contact], [ProfitByMaterialAsPayer], [ProfitByMaterialAsPayee], [CostByMaterialAsPayer])\n",
    "            VALUES ('{supplier_oid}', '{name}', 0, 1, 0)\"\"\"\n",
    "cursor.execute(query)\n",
    "cursor.commit()"
   ]
  },
  {
   "cell_type": "code",
   "execution_count": 21,
   "metadata": {},
   "outputs": [],
   "source": [
    "#foreman\n",
    "first_name, last_name = (faker.name()).split(maxsplit=1)\n",
    "query = f\"\"\"INSERT INTO [dbo].[Employee] ([Oid], [BusyUntil], [SecondName], [Stuff], [HourPrice], [Patronymic], \n",
    "            [PlanfixId], [Head], [PlanfixMoneyRequestTask])\n",
    "            VALUES ('{foreman_oid}', '{inactive_from}', '{last_name}', 1, 100, '{first_name}', \n",
    "                    1, Null, '{faker.text(100)}')\"\"\"\n",
    "cursor.execute(query)\n",
    "cursor.commit()"
   ]
  },
  {
   "cell_type": "code",
   "execution_count": 22,
   "metadata": {},
   "outputs": [],
   "source": [
    "#manager\n",
    "first_name, last_name = (faker.name()).split(maxsplit=1)\n",
    "query = f\"\"\"INSERT INTO [dbo].[Employee] ([Oid], [BusyUntil], [SecondName], [Stuff], [HourPrice], [Patronymic], \n",
    "            [PlanfixId], [Head], [PlanfixMoneyRequestTask])\n",
    "            VALUES ('{manager_oid}', '{inactive_from}', '{last_name}', 1, 100, '{first_name}', \n",
    "                    1, Null, '{faker.text(100)}')\"\"\"\n",
    "cursor.execute(query)\n",
    "cursor.commit()"
   ]
  },
  {
   "cell_type": "code",
   "execution_count": 26,
   "metadata": {},
   "outputs": [
    {
     "name": "stdout",
     "output_type": "stream",
     "text": [
      "Test project:  86F93117-C33D-4CD6-9AEC-C9C99FB7A625\n"
     ]
    }
   ],
   "source": [
    "#create project\n",
    "project_oid = cursor.execute(\"SELECT NEWID()\").fetchval()\n",
    "print('Test project: ', project_oid)\n",
    "query = f\"\"\"INSERT INTO [dbo].[Project] ([Oid], [Name], [Address], [Client], [Manager], [Foreman], [OptimisticLockField], [GCRecord], \n",
    "            [Balance], [BalanceByMaterial], [BalanceByWork], [PlaningStartDate], [Status], [FinishDate], [Area], [WorkPriceRate],\n",
    "            [WorkersPriceRate], [RemainderTheAdvance], [PlanfixWorkTask], [PlanfixChangeRequestTask], [UseAnalytics]) \n",
    "            VALUES ('{project_oid}', '{faker.text(10)}', '{faker.address()}', '{client_oid}', '{manager_oid}', '{foreman_oid}', 1, \n",
    "                    Null, 0, 0, 0, '{active_from}', 1, '{inactive_from}', \n",
    "                    10, 1000000.00, 1000.00, 0, '{faker.text(100)}', '{faker.text(100)}', 1)\"\"\"\n",
    "cursor.execute(query)\n",
    "cursor.commit()"
   ]
  },
  {
   "cell_type": "markdown",
   "metadata": {},
   "source": [
    "Проверка на то, что изначально балансы банка, кассы, клиента и поставщика == 0:"
   ]
  },
  {
   "cell_type": "code",
   "execution_count": 28,
   "metadata": {},
   "outputs": [],
   "source": [
    "query = f\"\"\"SELECT Balance FROM [dbo].[PaymentParticipant] WHERE Oid = '{bank_oid}'\"\"\"\n",
    "assert cursor.execute(query).fetchval() == 0\n",
    "\n",
    "query = f\"\"\"SELECT Balance FROM [dbo].[PaymentParticipant] WHERE Oid = '{cashbox_oid}'\"\"\"\n",
    "assert cursor.execute(query).fetchval() == 0\n",
    "\n",
    "query = f\"\"\"SELECT Balance FROM [dbo].[PaymentParticipant] WHERE Oid = '{client_oid}'\"\"\"\n",
    "assert cursor.execute(query).fetchval() == 0\n",
    "\n",
    "query = f\"\"\"SELECT Balance FROM [dbo].[PaymentParticipant] WHERE Oid = '{supplier_oid}'\"\"\"\n",
    "assert cursor.execute(query).fetchval() == 0"
   ]
  },
  {
   "cell_type": "markdown",
   "metadata": {},
   "source": [
    "Выполняем авансовый платеж (банк переводит поставщику 400000 => ожидаем баланс банка == -400000, баланс поставщика == 400000, клиент и касса без изменений):"
   ]
  },
  {
   "cell_type": "code",
   "execution_count": 29,
   "metadata": {},
   "outputs": [
    {
     "name": "stdout",
     "output_type": "stream",
     "text": [
      "Операция 1:  03A8491B-51F3-4067-8238-538E3490F593\n"
     ]
    }
   ],
   "source": [
    "payment_oid = cursor.execute(\"SELECT NEWID()\").fetchval()\n",
    "print('Операция 1: ', payment_oid)\n",
    "payment_category_oid = cursor.execute(\"SELECT Oid FROM [dbo].[PaymentCategory] WHERE name = N'Авансовые платежи'\").fetchval()\n",
    "created_date = datetime.datetime.fromtimestamp(\n",
    "    int(datetime.datetime.now().timestamp())\n",
    ").isoformat()\n",
    "query = f\"\"\"INSERT INTO [dbo].[Payment] ([Oid], [Amount], [Category], [Project], [Justification], [Comment], [Date], [Payer], [Payee],\n",
    "            [OptimisticLockField], [GCRecord], [CreateDate], [CheckNumber], [IsAuthorized], [Number]) \n",
    "            VALUES ('{payment_oid}', 400000, '{payment_category_oid}', '{project_oid}', '{faker.text(30)}', '{faker.text(100)}',\n",
    "            '{active_from}', '{bank_oid}', '{supplier_oid}', 0, Null, '{created_date}', '1001', 1, '1001')\"\"\"\n",
    "cursor.execute(query)\n",
    "cursor.commit()"
   ]
  },
  {
   "cell_type": "code",
   "execution_count": 30,
   "metadata": {},
   "outputs": [],
   "source": [
    "query = f\"\"\"SELECT Balance FROM [dbo].[PaymentParticipant] WHERE Oid = '{bank_oid}'\"\"\"\n",
    "assert cursor.execute(query).fetchval() == -400000\n",
    "\n",
    "query = f\"\"\"SELECT Balance FROM [dbo].[PaymentParticipant] WHERE Oid = '{cashbox_oid}'\"\"\"\n",
    "assert cursor.execute(query).fetchval() == 0\n",
    "\n",
    "query = f\"\"\"SELECT Balance FROM [dbo].[PaymentParticipant] WHERE Oid = '{client_oid}'\"\"\"\n",
    "assert cursor.execute(query).fetchval() == 0\n",
    "\n",
    "query = f\"\"\"SELECT Balance FROM [dbo].[PaymentParticipant] WHERE Oid = '{supplier_oid}'\"\"\"\n",
    "assert cursor.execute(query).fetchval() == 400000"
   ]
  },
  {
   "cell_type": "markdown",
   "metadata": {},
   "source": [
    "Поставщик производит закупку материалов (поставщик переводит клиенту 100000 => ожидаем баланс банка == -400000, баланс поставщика == 300000, баланс клиента == 100000, касса без изменений):"
   ]
  },
  {
   "cell_type": "code",
   "execution_count": 32,
   "metadata": {},
   "outputs": [
    {
     "name": "stdout",
     "output_type": "stream",
     "text": [
      "Операция 2:  0BD94B38-5A51-4803-9027-C5336243791B\n"
     ]
    }
   ],
   "source": [
    "payment_oid = cursor.execute(\"SELECT NEWID()\").fetchval()\n",
    "print('Операция 2: ', payment_oid)\n",
    "payment_category_oid = cursor.execute(\"SELECT Oid FROM [dbo].[PaymentCategory] WHERE name = N'Закупка материалов'\").fetchval()\n",
    "query = f\"\"\"INSERT INTO [dbo].[Payment] ([Oid], [Amount], [Category], [Project], [Justification], [Comment], [Date], [Payer], [Payee],\n",
    "            [OptimisticLockField], [GCRecord], [CreateDate], [CheckNumber], [IsAuthorized], [Number]) \n",
    "            VALUES ('{payment_oid}', 100000, '{payment_category_oid}', '{project_oid}', '{faker.text(30)}', '{faker.text(100)}',\n",
    "            '{active_from}', '{supplier_oid}', '{client_oid}', 0, Null, '{created_date}', '1001', 1, '1001')\"\"\"\n",
    "cursor.execute(query)\n",
    "cursor.commit()"
   ]
  },
  {
   "cell_type": "code",
   "execution_count": 33,
   "metadata": {},
   "outputs": [],
   "source": [
    "query = f\"\"\"SELECT Balance FROM [dbo].[PaymentParticipant] WHERE Oid = '{bank_oid}'\"\"\"\n",
    "assert cursor.execute(query).fetchval() == -400000\n",
    "\n",
    "query = f\"\"\"SELECT Balance FROM [dbo].[PaymentParticipant] WHERE Oid = '{cashbox_oid}'\"\"\"\n",
    "assert cursor.execute(query).fetchval() == 0\n",
    "\n",
    "query = f\"\"\"SELECT Balance FROM [dbo].[PaymentParticipant] WHERE Oid = '{client_oid}'\"\"\"\n",
    "assert cursor.execute(query).fetchval() == 100000\n",
    "\n",
    "query = f\"\"\"SELECT Balance FROM [dbo].[PaymentParticipant] WHERE Oid = '{supplier_oid}'\"\"\"\n",
    "assert cursor.execute(query).fetchval() == 300000"
   ]
  },
  {
   "cell_type": "markdown",
   "metadata": {},
   "source": [
    "Клиент передает наличные для закупки материалов (клиент переводит кассе 150000 => ожидаем баланс банка == -400000, баланс поставщика == 300000, баланс клиента == -50000, баланс кассы == 150000):"
   ]
  },
  {
   "cell_type": "code",
   "execution_count": 34,
   "metadata": {},
   "outputs": [
    {
     "name": "stdout",
     "output_type": "stream",
     "text": [
      "Операция 3:  B3768182-E93B-440A-BFFC-B3977170EFD8\n"
     ]
    }
   ],
   "source": [
    "payment_oid = cursor.execute(\"SELECT NEWID()\").fetchval()\n",
    "print('Операция 3: ', payment_oid)\n",
    "query = f\"\"\"INSERT INTO [dbo].[Payment] ([Oid], [Amount], [Category], [Project], [Justification], [Comment], [Date], [Payer], [Payee],\n",
    "            [OptimisticLockField], [GCRecord], [CreateDate], [CheckNumber], [IsAuthorized], [Number]) \n",
    "            VALUES ('{payment_oid}', 150000, '{payment_category_oid}', '{project_oid}', '{faker.text(30)}', '{faker.text(100)}',\n",
    "            '{active_from}', '{client_oid}', '{cashbox_oid}', 0, Null, '{created_date}', '1001', 1, '1001')\"\"\"\n",
    "cursor.execute(query)\n",
    "cursor.commit()"
   ]
  },
  {
   "cell_type": "code",
   "execution_count": 35,
   "metadata": {},
   "outputs": [],
   "source": [
    "query = f\"\"\"SELECT Balance FROM [dbo].[PaymentParticipant] WHERE Oid = '{bank_oid}'\"\"\"\n",
    "assert cursor.execute(query).fetchval() == -400000\n",
    "\n",
    "query = f\"\"\"SELECT Balance FROM [dbo].[PaymentParticipant] WHERE Oid = '{cashbox_oid}'\"\"\"\n",
    "assert cursor.execute(query).fetchval() == 150000\n",
    "\n",
    "query = f\"\"\"SELECT Balance FROM [dbo].[PaymentParticipant] WHERE Oid = '{client_oid}'\"\"\"\n",
    "assert cursor.execute(query).fetchval() == -50000\n",
    "\n",
    "query = f\"\"\"SELECT Balance FROM [dbo].[PaymentParticipant] WHERE Oid = '{supplier_oid}'\"\"\"\n",
    "assert cursor.execute(query).fetchval() == 300000"
   ]
  },
  {
   "cell_type": "markdown",
   "metadata": {},
   "source": [
    "Частичное погашение кредита (касса переводит банку 100000 => ожидаем баланс банка == -300000, баланс поставщика == 300000, баланс клиента == -50000, баланс кассы == 50000):"
   ]
  },
  {
   "cell_type": "code",
   "execution_count": 36,
   "metadata": {},
   "outputs": [
    {
     "name": "stdout",
     "output_type": "stream",
     "text": [
      "Операция 4:  FCB2CE63-259F-4D58-9498-5A7C2B27F6D5\n"
     ]
    }
   ],
   "source": [
    "payment_oid = cursor.execute(\"SELECT NEWID()\").fetchval()\n",
    "print('Операция 4: ', payment_oid)\n",
    "payment_category_oid = cursor.execute(\"SELECT Oid FROM [dbo].[PaymentCategory] WHERE name = N'Возврат кредита'\").fetchval()\n",
    "query = f\"\"\"INSERT INTO [dbo].[Payment] ([Oid], [Amount], [Category], [Project], [Justification], [Comment], [Date], [Payer], [Payee],\n",
    "            [OptimisticLockField], [GCRecord], [CreateDate], [CheckNumber], [IsAuthorized], [Number]) \n",
    "            VALUES ('{payment_oid}', 100000, '{payment_category_oid}', '{project_oid}', '{faker.text(30)}', '{faker.text(100)}',\n",
    "            '{active_from}', '{cashbox_oid}', '{bank_oid}', 0, Null, '{created_date}', '1001', 1, '1001')\"\"\"\n",
    "cursor.execute(query)\n",
    "cursor.commit()"
   ]
  },
  {
   "cell_type": "code",
   "execution_count": 37,
   "metadata": {},
   "outputs": [],
   "source": [
    "query = f\"\"\"SELECT Balance FROM [dbo].[PaymentParticipant] WHERE Oid = '{bank_oid}'\"\"\"\n",
    "assert cursor.execute(query).fetchval() == -300000\n",
    "\n",
    "query = f\"\"\"SELECT Balance FROM [dbo].[PaymentParticipant] WHERE Oid = '{cashbox_oid}'\"\"\"\n",
    "assert cursor.execute(query).fetchval() == 50000\n",
    "\n",
    "query = f\"\"\"SELECT Balance FROM [dbo].[PaymentParticipant] WHERE Oid = '{client_oid}'\"\"\"\n",
    "assert cursor.execute(query).fetchval() == -50000\n",
    "\n",
    "query = f\"\"\"SELECT Balance FROM [dbo].[PaymentParticipant] WHERE Oid = '{supplier_oid}'\"\"\"\n",
    "assert cursor.execute(query).fetchval() == 300000"
   ]
  }
 ],
 "metadata": {
  "kernelspec": {
   "display_name": "Python 3.9.1 64-bit",
   "language": "python",
   "name": "python3"
  },
  "language_info": {
   "codemirror_mode": {
    "name": "ipython",
    "version": 3
   },
   "file_extension": ".py",
   "mimetype": "text/x-python",
   "name": "python",
   "nbconvert_exporter": "python",
   "pygments_lexer": "ipython3",
   "version": "3.9.1"
  },
  "orig_nbformat": 4,
  "vscode": {
   "interpreter": {
    "hash": "aee8b7b246df8f9039afb4144a1f6fd8d2ca17a180786b69acc140d282b71a49"
   }
  }
 },
 "nbformat": 4,
 "nbformat_minor": 2
}
